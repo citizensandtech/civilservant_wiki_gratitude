{
 "cells": [
  {
   "cell_type": "markdown",
   "metadata": {},
   "source": [
    "# Goal\n",
    "Example of how to load gratitude feather."
   ]
  },
  {
   "cell_type": "code",
   "execution_count": 1,
   "metadata": {},
   "outputs": [],
   "source": [
    "library('feather')\n",
    "library('ggplot2')\n",
    "options(repr.plot.width=6, repr.plot.height=4)"
   ]
  },
  {
   "cell_type": "code",
   "execution_count": 6,
   "metadata": {},
   "outputs": [
    {
     "name": "stderr",
     "output_type": "stream",
     "text": [
      "Warning message:\n",
      "“Coercing int64 to double”Warning message:\n",
      "“Coercing int64 to double”Warning message:\n",
      "“Coercing int64 to double”Warning message:\n",
      "“Coercing int64 to double”Warning message:\n",
      "“Coercing int64 to double”Warning message:\n",
      "“Coercing int64 to double”Warning message:\n",
      "“Coercing int64 to double”Warning message:\n",
      "“Coercing int64 to double”Warning message:\n",
      "“Coercing int64 to double”Warning message:\n",
      "“Coercing int64 to double”"
     ]
    }
   ],
   "source": [
    "df <- read_feather('transfer/gratitude_20180629.feather')"
   ]
  },
  {
   "cell_type": "code",
   "execution_count": 10,
   "metadata": {},
   "outputs": [
    {
     "data": {
      "text/html": [
       "<table>\n",
       "<thead><tr><th scope=col>lang</th><th scope=col>receiver</th><th scope=col>receiver_edits_180d_after</th><th scope=col>receiver_edits_1d_after</th><th scope=col>receiver_edits_30d_after</th><th scope=col>receiver_edits_90d_after</th><th scope=col>receiver_first_edit</th><th scope=col>receiver_id</th><th scope=col>receiver_prev_edits</th><th scope=col>receiver_prev_received</th><th scope=col>⋯</th><th scope=col>sender_id</th><th scope=col>sender_prev_edits</th><th scope=col>sender_prev_received</th><th scope=col>sender_prev_received_indicator</th><th scope=col>sender_prev_sent</th><th scope=col>sender_prev_sent_indicator</th><th scope=col>thanklove</th><th scope=col>timestamp</th><th scope=col>wll_type</th><th scope=col>probably_deleted</th></tr></thead>\n",
       "<tbody>\n",
       "\t<tr><td>ar                 </td><td>341772             </td><td>   1               </td><td>0                  </td><td>  0                </td><td>   0               </td><td>2011-10-12 13:35:46</td><td>341772             </td><td>    2              </td><td>0                  </td><td>⋯                  </td><td>341772             </td><td>  2                </td><td>0                  </td><td>FALSE              </td><td>0                  </td><td>FALSE              </td><td>love               </td><td>2011-10-12 13:38:38</td><td>barnstar-original  </td><td>FALSE              </td></tr>\n",
       "\t<tr><td>ar                 </td><td>418003             </td><td>   1               </td><td>1                  </td><td>  1                </td><td>   1               </td><td>2011-10-13 04:56:46</td><td>418003             </td><td>    0              </td><td>0                  </td><td>⋯                  </td><td>418003             </td><td>  0                </td><td>0                  </td><td>FALSE              </td><td>0                  </td><td>FALSE              </td><td>love               </td><td>2011-10-13 04:56:45</td><td>kitten             </td><td>FALSE              </td></tr>\n",
       "\t<tr><td>ar                 </td><td>411973             </td><td>   1               </td><td>1                  </td><td>  1                </td><td>   1               </td><td>2011-10-13 05:14:15</td><td>411973             </td><td>    1              </td><td>0                  </td><td>⋯                  </td><td>411973             </td><td>  1                </td><td>0                  </td><td>FALSE              </td><td>0                  </td><td>FALSE              </td><td>love               </td><td>2011-10-13 05:19:32</td><td>barnstar-original  </td><td>FALSE              </td></tr>\n",
       "\t<tr><td>ar                 </td><td>411973             </td><td>   1               </td><td>1                  </td><td>  1                </td><td>   1               </td><td>2011-10-13 05:14:15</td><td>411973             </td><td>    2              </td><td>1                  </td><td>⋯                  </td><td>411973             </td><td>  2                </td><td>1                  </td><td> TRUE              </td><td>1                  </td><td> TRUE              </td><td>love               </td><td>2011-10-13 05:19:47</td><td>barnstar-original  </td><td>FALSE              </td></tr>\n",
       "\t<tr><td>ar                 </td><td>334655             </td><td>  91               </td><td>4                  </td><td> 38                </td><td>  91               </td><td>2010-12-11 10:40:48</td><td>334655             </td><td>  437              </td><td>0                  </td><td>⋯                  </td><td>334655             </td><td>437                </td><td>0                  </td><td>FALSE              </td><td>0                  </td><td>FALSE              </td><td>love               </td><td>2011-10-13 06:26:24</td><td>barnstar-original  </td><td>FALSE              </td></tr>\n",
       "\t<tr><td>ar                 </td><td>9793               </td><td>3357               </td><td>6                  </td><td>511                </td><td>1420               </td><td>2006-03-31 23:22:10</td><td>  9793             </td><td>35135              </td><td>0                  </td><td>⋯                  </td><td>334655             </td><td>438                </td><td>1                  </td><td> TRUE              </td><td>1                  </td><td> TRUE              </td><td>love               </td><td>2011-10-13 06:33:02</td><td>barnstar-original  </td><td>FALSE              </td></tr>\n",
       "</tbody>\n",
       "</table>\n"
      ],
      "text/latex": [
       "\\begin{tabular}{r|lllllllllllllllllllllllllllllllll}\n",
       " lang & receiver & receiver\\_edits\\_180d\\_after & receiver\\_edits\\_1d\\_after & receiver\\_edits\\_30d\\_after & receiver\\_edits\\_90d\\_after & receiver\\_first\\_edit & receiver\\_id & receiver\\_prev\\_edits & receiver\\_prev\\_received & ⋯ & sender\\_id & sender\\_prev\\_edits & sender\\_prev\\_received & sender\\_prev\\_received\\_indicator & sender\\_prev\\_sent & sender\\_prev\\_sent\\_indicator & thanklove & timestamp & wll\\_type & probably\\_deleted\\\\\n",
       "\\hline\n",
       "\t ar                  & 341772              &    1                & 0                   &   0                 &    0                & 2011-10-12 13:35:46 & 341772              &     2               & 0                   & ⋯                   & 341772              &   2                 & 0                   & FALSE               & 0                   & FALSE               & love                & 2011-10-12 13:38:38 & barnstar-original   & FALSE              \\\\\n",
       "\t ar                  & 418003              &    1                & 1                   &   1                 &    1                & 2011-10-13 04:56:46 & 418003              &     0               & 0                   & ⋯                   & 418003              &   0                 & 0                   & FALSE               & 0                   & FALSE               & love                & 2011-10-13 04:56:45 & kitten              & FALSE              \\\\\n",
       "\t ar                  & 411973              &    1                & 1                   &   1                 &    1                & 2011-10-13 05:14:15 & 411973              &     1               & 0                   & ⋯                   & 411973              &   1                 & 0                   & FALSE               & 0                   & FALSE               & love                & 2011-10-13 05:19:32 & barnstar-original   & FALSE              \\\\\n",
       "\t ar                  & 411973              &    1                & 1                   &   1                 &    1                & 2011-10-13 05:14:15 & 411973              &     2               & 1                   & ⋯                   & 411973              &   2                 & 1                   &  TRUE               & 1                   &  TRUE               & love                & 2011-10-13 05:19:47 & barnstar-original   & FALSE              \\\\\n",
       "\t ar                  & 334655              &   91                & 4                   &  38                 &   91                & 2010-12-11 10:40:48 & 334655              &   437               & 0                   & ⋯                   & 334655              & 437                 & 0                   & FALSE               & 0                   & FALSE               & love                & 2011-10-13 06:26:24 & barnstar-original   & FALSE              \\\\\n",
       "\t ar                  & 9793                & 3357                & 6                   & 511                 & 1420                & 2006-03-31 23:22:10 &   9793              & 35135               & 0                   & ⋯                   & 334655              & 438                 & 1                   &  TRUE               & 1                   &  TRUE               & love                & 2011-10-13 06:33:02 & barnstar-original   & FALSE              \\\\\n",
       "\\end{tabular}\n"
      ],
      "text/markdown": [
       "\n",
       "lang | receiver | receiver_edits_180d_after | receiver_edits_1d_after | receiver_edits_30d_after | receiver_edits_90d_after | receiver_first_edit | receiver_id | receiver_prev_edits | receiver_prev_received | ⋯ | sender_id | sender_prev_edits | sender_prev_received | sender_prev_received_indicator | sender_prev_sent | sender_prev_sent_indicator | thanklove | timestamp | wll_type | probably_deleted | \n",
       "|---|---|---|---|---|---|\n",
       "| ar                  | 341772              |    1                | 0                   |   0                 |    0                | 2011-10-12 13:35:46 | 341772              |     2               | 0                   | ⋯                   | 341772              |   2                 | 0                   | FALSE               | 0                   | FALSE               | love                | 2011-10-12 13:38:38 | barnstar-original   | FALSE               | \n",
       "| ar                  | 418003              |    1                | 1                   |   1                 |    1                | 2011-10-13 04:56:46 | 418003              |     0               | 0                   | ⋯                   | 418003              |   0                 | 0                   | FALSE               | 0                   | FALSE               | love                | 2011-10-13 04:56:45 | kitten              | FALSE               | \n",
       "| ar                  | 411973              |    1                | 1                   |   1                 |    1                | 2011-10-13 05:14:15 | 411973              |     1               | 0                   | ⋯                   | 411973              |   1                 | 0                   | FALSE               | 0                   | FALSE               | love                | 2011-10-13 05:19:32 | barnstar-original   | FALSE               | \n",
       "| ar                  | 411973              |    1                | 1                   |   1                 |    1                | 2011-10-13 05:14:15 | 411973              |     2               | 1                   | ⋯                   | 411973              |   2                 | 1                   |  TRUE               | 1                   |  TRUE               | love                | 2011-10-13 05:19:47 | barnstar-original   | FALSE               | \n",
       "| ar                  | 334655              |   91                | 4                   |  38                 |   91                | 2010-12-11 10:40:48 | 334655              |   437               | 0                   | ⋯                   | 334655              | 437                 | 0                   | FALSE               | 0                   | FALSE               | love                | 2011-10-13 06:26:24 | barnstar-original   | FALSE               | \n",
       "| ar                  | 9793                | 3357                | 6                   | 511                 | 1420                | 2006-03-31 23:22:10 |   9793              | 35135               | 0                   | ⋯                   | 334655              | 438                 | 1                   |  TRUE               | 1                   |  TRUE               | love                | 2011-10-13 06:33:02 | barnstar-original   | FALSE               | \n",
       "\n",
       "\n"
      ],
      "text/plain": [
       "  lang receiver receiver_edits_180d_after receiver_edits_1d_after\n",
       "1 ar   341772      1                      0                      \n",
       "2 ar   418003      1                      1                      \n",
       "3 ar   411973      1                      1                      \n",
       "4 ar   411973      1                      1                      \n",
       "5 ar   334655     91                      4                      \n",
       "6 ar   9793     3357                      6                      \n",
       "  receiver_edits_30d_after receiver_edits_90d_after receiver_first_edit\n",
       "1   0                         0                     2011-10-12 13:35:46\n",
       "2   1                         1                     2011-10-13 04:56:46\n",
       "3   1                         1                     2011-10-13 05:14:15\n",
       "4   1                         1                     2011-10-13 05:14:15\n",
       "5  38                        91                     2010-12-11 10:40:48\n",
       "6 511                      1420                     2006-03-31 23:22:10\n",
       "  receiver_id receiver_prev_edits receiver_prev_received ⋯ sender_id\n",
       "1 341772          2               0                      ⋯ 341772   \n",
       "2 418003          0               0                      ⋯ 418003   \n",
       "3 411973          1               0                      ⋯ 411973   \n",
       "4 411973          2               1                      ⋯ 411973   \n",
       "5 334655        437               0                      ⋯ 334655   \n",
       "6   9793      35135               0                      ⋯ 334655   \n",
       "  sender_prev_edits sender_prev_received sender_prev_received_indicator\n",
       "1   2               0                    FALSE                         \n",
       "2   0               0                    FALSE                         \n",
       "3   1               0                    FALSE                         \n",
       "4   2               1                     TRUE                         \n",
       "5 437               0                    FALSE                         \n",
       "6 438               1                     TRUE                         \n",
       "  sender_prev_sent sender_prev_sent_indicator thanklove timestamp          \n",
       "1 0                FALSE                      love      2011-10-12 13:38:38\n",
       "2 0                FALSE                      love      2011-10-13 04:56:45\n",
       "3 0                FALSE                      love      2011-10-13 05:19:32\n",
       "4 1                 TRUE                      love      2011-10-13 05:19:47\n",
       "5 0                FALSE                      love      2011-10-13 06:26:24\n",
       "6 1                 TRUE                      love      2011-10-13 06:33:02\n",
       "  wll_type          probably_deleted\n",
       "1 barnstar-original FALSE           \n",
       "2 kitten            FALSE           \n",
       "3 barnstar-original FALSE           \n",
       "4 barnstar-original FALSE           \n",
       "5 barnstar-original FALSE           \n",
       "6 barnstar-original FALSE           "
      ]
     },
     "metadata": {},
     "output_type": "display_data"
    }
   ],
   "source": [
    "head(df)"
   ]
  },
  {
   "cell_type": "code",
   "execution_count": 8,
   "metadata": {},
   "outputs": [
    {
     "data": {
      "text/html": [
       "<ol class=list-inline>\n",
       "\t<li>'lang'</li>\n",
       "\t<li>'receiver'</li>\n",
       "\t<li>'receiver_edits_180d_after'</li>\n",
       "\t<li>'receiver_edits_1d_after'</li>\n",
       "\t<li>'receiver_edits_30d_after'</li>\n",
       "\t<li>'receiver_edits_90d_after'</li>\n",
       "\t<li>'receiver_first_edit'</li>\n",
       "\t<li>'receiver_id'</li>\n",
       "\t<li>'receiver_prev_edits'</li>\n",
       "\t<li>'receiver_prev_received'</li>\n",
       "\t<li>'receiver_prev_received_indicator'</li>\n",
       "\t<li>'receiver_prev_sent'</li>\n",
       "\t<li>'receiver_prev_sent_indicator'</li>\n",
       "\t<li>'receiver_thank_another_180d_after'</li>\n",
       "\t<li>'receiver_thank_another_1d_after'</li>\n",
       "\t<li>'receiver_thank_another_30d_after'</li>\n",
       "\t<li>'receiver_thank_another_90d_after'</li>\n",
       "\t<li>'sender'</li>\n",
       "\t<li>'sender_edits_180d_after'</li>\n",
       "\t<li>'sender_edits_1d_after'</li>\n",
       "\t<li>'sender_edits_30d_after'</li>\n",
       "\t<li>'sender_edits_90d_after'</li>\n",
       "\t<li>'sender_first_edit'</li>\n",
       "\t<li>'sender_id'</li>\n",
       "\t<li>'sender_prev_edits'</li>\n",
       "\t<li>'sender_prev_received'</li>\n",
       "\t<li>'sender_prev_received_indicator'</li>\n",
       "\t<li>'sender_prev_sent'</li>\n",
       "\t<li>'sender_prev_sent_indicator'</li>\n",
       "\t<li>'thanklove'</li>\n",
       "\t<li>'timestamp'</li>\n",
       "\t<li>'wll_type'</li>\n",
       "\t<li>'probably_deleted'</li>\n",
       "</ol>\n"
      ],
      "text/latex": [
       "\\begin{enumerate*}\n",
       "\\item 'lang'\n",
       "\\item 'receiver'\n",
       "\\item 'receiver\\_edits\\_180d\\_after'\n",
       "\\item 'receiver\\_edits\\_1d\\_after'\n",
       "\\item 'receiver\\_edits\\_30d\\_after'\n",
       "\\item 'receiver\\_edits\\_90d\\_after'\n",
       "\\item 'receiver\\_first\\_edit'\n",
       "\\item 'receiver\\_id'\n",
       "\\item 'receiver\\_prev\\_edits'\n",
       "\\item 'receiver\\_prev\\_received'\n",
       "\\item 'receiver\\_prev\\_received\\_indicator'\n",
       "\\item 'receiver\\_prev\\_sent'\n",
       "\\item 'receiver\\_prev\\_sent\\_indicator'\n",
       "\\item 'receiver\\_thank\\_another\\_180d\\_after'\n",
       "\\item 'receiver\\_thank\\_another\\_1d\\_after'\n",
       "\\item 'receiver\\_thank\\_another\\_30d\\_after'\n",
       "\\item 'receiver\\_thank\\_another\\_90d\\_after'\n",
       "\\item 'sender'\n",
       "\\item 'sender\\_edits\\_180d\\_after'\n",
       "\\item 'sender\\_edits\\_1d\\_after'\n",
       "\\item 'sender\\_edits\\_30d\\_after'\n",
       "\\item 'sender\\_edits\\_90d\\_after'\n",
       "\\item 'sender\\_first\\_edit'\n",
       "\\item 'sender\\_id'\n",
       "\\item 'sender\\_prev\\_edits'\n",
       "\\item 'sender\\_prev\\_received'\n",
       "\\item 'sender\\_prev\\_received\\_indicator'\n",
       "\\item 'sender\\_prev\\_sent'\n",
       "\\item 'sender\\_prev\\_sent\\_indicator'\n",
       "\\item 'thanklove'\n",
       "\\item 'timestamp'\n",
       "\\item 'wll\\_type'\n",
       "\\item 'probably\\_deleted'\n",
       "\\end{enumerate*}\n"
      ],
      "text/markdown": [
       "1. 'lang'\n",
       "2. 'receiver'\n",
       "3. 'receiver_edits_180d_after'\n",
       "4. 'receiver_edits_1d_after'\n",
       "5. 'receiver_edits_30d_after'\n",
       "6. 'receiver_edits_90d_after'\n",
       "7. 'receiver_first_edit'\n",
       "8. 'receiver_id'\n",
       "9. 'receiver_prev_edits'\n",
       "10. 'receiver_prev_received'\n",
       "11. 'receiver_prev_received_indicator'\n",
       "12. 'receiver_prev_sent'\n",
       "13. 'receiver_prev_sent_indicator'\n",
       "14. 'receiver_thank_another_180d_after'\n",
       "15. 'receiver_thank_another_1d_after'\n",
       "16. 'receiver_thank_another_30d_after'\n",
       "17. 'receiver_thank_another_90d_after'\n",
       "18. 'sender'\n",
       "19. 'sender_edits_180d_after'\n",
       "20. 'sender_edits_1d_after'\n",
       "21. 'sender_edits_30d_after'\n",
       "22. 'sender_edits_90d_after'\n",
       "23. 'sender_first_edit'\n",
       "24. 'sender_id'\n",
       "25. 'sender_prev_edits'\n",
       "26. 'sender_prev_received'\n",
       "27. 'sender_prev_received_indicator'\n",
       "28. 'sender_prev_sent'\n",
       "29. 'sender_prev_sent_indicator'\n",
       "30. 'thanklove'\n",
       "31. 'timestamp'\n",
       "32. 'wll_type'\n",
       "33. 'probably_deleted'\n",
       "\n",
       "\n"
      ],
      "text/plain": [
       " [1] \"lang\"                              \"receiver\"                         \n",
       " [3] \"receiver_edits_180d_after\"         \"receiver_edits_1d_after\"          \n",
       " [5] \"receiver_edits_30d_after\"          \"receiver_edits_90d_after\"         \n",
       " [7] \"receiver_first_edit\"               \"receiver_id\"                      \n",
       " [9] \"receiver_prev_edits\"               \"receiver_prev_received\"           \n",
       "[11] \"receiver_prev_received_indicator\"  \"receiver_prev_sent\"               \n",
       "[13] \"receiver_prev_sent_indicator\"      \"receiver_thank_another_180d_after\"\n",
       "[15] \"receiver_thank_another_1d_after\"   \"receiver_thank_another_30d_after\" \n",
       "[17] \"receiver_thank_another_90d_after\"  \"sender\"                           \n",
       "[19] \"sender_edits_180d_after\"           \"sender_edits_1d_after\"            \n",
       "[21] \"sender_edits_30d_after\"            \"sender_edits_90d_after\"           \n",
       "[23] \"sender_first_edit\"                 \"sender_id\"                        \n",
       "[25] \"sender_prev_edits\"                 \"sender_prev_received\"             \n",
       "[27] \"sender_prev_received_indicator\"    \"sender_prev_sent\"                 \n",
       "[29] \"sender_prev_sent_indicator\"        \"thanklove\"                        \n",
       "[31] \"timestamp\"                         \"wll_type\"                         \n",
       "[33] \"probably_deleted\"                 "
      ]
     },
     "metadata": {},
     "output_type": "display_data"
    }
   ],
   "source": [
    "names(df)"
   ]
  },
  {
   "cell_type": "code",
   "execution_count": 11,
   "metadata": {},
   "outputs": [],
   "source": [
    "lang_size_comp <- ggplot(data = df, aes(x=lang, fill=thanklove)) + geom_bar(stat=\"count\", position = position_dodge(width = 0.9))"
   ]
  },
  {
   "cell_type": "code",
   "execution_count": 12,
   "metadata": {},
   "outputs": [
    {
     "data": {},
     "metadata": {},
     "output_type": "display_data"
    },
    {
     "data": {
      "image/png": "[encoded data removed]",
      "text/plain": [
       "plot without title"
      ]
     },
     "metadata": {},
     "output_type": "display_data"
    }
   ],
   "source": [
    "lang_size_comp"
   ]
  }
 ],
 "metadata": {
  "kernelspec": {
   "display_name": "R",
   "language": "R",
   "name": "ir"
  },
  "language_info": {
   "codemirror_mode": "r",
   "file_extension": ".r",
   "mimetype": "text/x-r-source",
   "name": "R",
   "pygments_lexer": "r",
   "version": "3.4.4"
  }
 },
 "nbformat": 4,
 "nbformat_minor": 2
}
