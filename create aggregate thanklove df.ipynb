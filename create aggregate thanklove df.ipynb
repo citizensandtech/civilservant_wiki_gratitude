{
 "cells": [
  {
   "cell_type": "markdown",
   "metadata": {},
   "source": [
    "## Goal \n",
    "### glue together many df.\n",
    "\n",
    "### Stats\n",
    "+ What are summary statistics of each feature?\n",
    "+ How has thanking changed over time?\n",
    "+ How is gratitude distributes among users?\n",
    "+ What do the distirbutions of each feature look like?\n",
    "+ For multi-window features how do they look together?"
   ]
  },
  {
   "cell_type": "code",
   "execution_count": 1,
   "metadata": {},
   "outputs": [
    {
     "name": "stdout",
     "output_type": "stream",
     "text": [
      "Populating the interactive namespace from numpy and matplotlib\n"
     ]
    }
   ],
   "source": [
    "import pyarrow as pa\n",
    "import pandas as pd\n",
    "pd.set_option('display.max_columns', 500)\n",
    "pd.set_option('display.width', 1000)\n",
    "import os\n",
    "# from collections import defaultdict\n",
    "%pylab inline\n",
    "import json\n",
    "from datetime import datetime as dt\n",
    "nat_filler = dt(1970,1,1)"
   ]
  },
  {
   "cell_type": "code",
   "execution_count": 2,
   "metadata": {},
   "outputs": [],
   "source": [
    "langcodes = json.load(open('configs/ores.json','r'))['langcodes']"
   ]
  },
  {
   "cell_type": "code",
   "execution_count": 3,
   "metadata": {},
   "outputs": [],
   "source": [
    "outputs_dir = 'outputs'\n",
    "file_list = os.listdir(outputs_dir)"
   ]
  },
  {
   "cell_type": "code",
   "execution_count": 4,
   "metadata": {},
   "outputs": [],
   "source": [
    "files = dict()\n",
    "for f in file_list:\n",
    "    parts = f.split('_')\n",
    "    thanklove = parts[0].split('wiki')[1]\n",
    "    lang = parts[1]\n",
    "\n",
    "    tdf = pd.read_csv(os.path.join(outputs_dir, f), parse_dates=['timestamp', 'receiver_first_edit', 'sender_first_edit'])\n",
    "    \n",
    "    if thanklove == 'love':\n",
    "        # i will fix this upstream so this shouldn't have to be done in the future.\n",
    "        tdf['wll_type'] = tdf['wll_type'].apply(lambda x: x.replace(\"b'\",\"\").replace(\"'\",\"\"))\n",
    "    \n",
    "    #feather requires homogenous datatypes\n",
    "    tdf['receiver'] = tdf['receiver'].astype(str)\n",
    "    tdf['sender'] = tdf['sender'].astype(str)\n",
    "    \n",
    "    tdf['thanklove'] = thanklove\n",
    "    tdf['lang'] = lang\n",
    "    files[f] = tdf\n",
    "#print(files)"
   ]
  },
  {
   "cell_type": "code",
   "execution_count": 5,
   "metadata": {},
   "outputs": [
    {
     "name": "stderr",
     "output_type": "stream",
     "text": [
      "/usr/local/lib/python3.6/dist-packages/ipykernel_launcher.py:1: FutureWarning: Sorting because non-concatenation axis is not aligned. A future version\n",
      "of pandas will change to not sort by default.\n",
      "\n",
      "To accept the future behavior, pass 'sort=False'.\n",
      "\n",
      "To retain the current behavior and silence the warning, pass 'sort=True'.\n",
      "\n",
      "  \"\"\"Entry point for launching an IPython kernel.\n"
     ]
    }
   ],
   "source": [
    "df = pd.concat(files.values())\n",
    "df = df.reset_index(drop=True)\n",
    "#df = df.fillna({'sender_first_edit':nat_filler, 'receiver_first_edit':nat_filler})\n",
    "df['probably_deleted'] = (pd.isna(df['sender_first_edit'])) | (pd.isna(df['receiver_first_edit']))"
   ]
  },
  {
   "cell_type": "code",
   "execution_count": 6,
   "metadata": {},
   "outputs": [],
   "source": [
    "mapper = {'thanklove':'gratitude',\n",
    "         'receiver_thank_another_1d_after':'receiver_gratitude_another_1d_after',\n",
    "         'receiver_thank_another_30d_after':'receiver_gratitude_another_30d_after',\n",
    "         'receiver_thank_another_90d_after':'receiver_gratitude_another_90d_after',\n",
    "         'receiver_thank_another_180d_after':'receiver_gratitude_another_180d_after',\n",
    "            }\n",
    "df.rename(mapper, axis='columns', inplace=True)"
   ]
  },
  {
   "cell_type": "code",
   "execution_count": 7,
   "metadata": {},
   "outputs": [],
   "source": [
    "#redo column order\n",
    "new_order = ['lang',\n",
    "            'timestamp',\n",
    "             'gratitude',\n",
    "             'receiver',\n",
    "            'sender',\n",
    "            'receiver_id',\n",
    "            'sender_id',\n",
    "             'wll_type',\n",
    "            'probably_deleted',\n",
    "\n",
    "            'receiver_prev_edits',\n",
    "            'receiver_prev_received',\n",
    "            'receiver_prev_received_indicator',\n",
    "            'receiver_prev_sent',\n",
    "            'receiver_prev_sent_indicator',\n",
    "\n",
    "             \n",
    "            'receiver_edits_1d_after',\n",
    "            'receiver_edits_30d_after',\n",
    "            'receiver_edits_90d_after',\n",
    "            'receiver_edits_180d_after',\n",
    "\n",
    "            \n",
    "            'receiver_gratitude_another_1d_after',\n",
    "            'receiver_gratitude_another_30d_after',\n",
    "            'receiver_gratitude_another_90d_after',\n",
    "            'receiver_gratitude_another_180d_after',\n",
    "\n",
    "            'receiver_first_edit',\n",
    "            \n",
    "            'sender_prev_edits',\n",
    "            'sender_prev_received',\n",
    "            'sender_prev_received_indicator',\n",
    "            'sender_prev_sent',\n",
    "            'sender_prev_sent_indicator',\n",
    "\n",
    "            \n",
    "            'sender_edits_1d_after',\n",
    "            'sender_edits_30d_after',\n",
    "            'sender_edits_90d_after',\n",
    "            'sender_edits_180d_after',\n",
    "             \n",
    "            'sender_first_edit',\n",
    "            ]\n",
    "\n",
    "df = df[new_order]"
   ]
  },
  {
   "cell_type": "code",
   "execution_count": 8,
   "metadata": {},
   "outputs": [],
   "source": [
    "today = dt.today().strftime(\"%Y%m%d\")\n",
    "\n",
    "df.to_feather(f'transfer/gratitude_{today}.feather')\n",
    "df.to_csv(f'transfer/gratitude_{today}.csv', index=False)"
   ]
  },
  {
   "cell_type": "code",
   "execution_count": 9,
   "metadata": {},
   "outputs": [
    {
     "name": "stdout",
     "output_type": "stream",
     "text": [
      "121M\ttransfer/gratitude_20180628.csv\r\n",
      "135M\ttransfer/gratitude_20180629.csv\r\n",
      "146M\ttransfer/gratitude_20180629.feather\r\n",
      "354M\ttransfer/gratitude_20180717.csv\r\n",
      "384M\ttransfer/gratitude_20180717.feather\r\n",
      "465M\ttransfer/gratitude_20180718.csv\r\n",
      "503M\ttransfer/gratitude_20180718.feather\r\n"
     ]
    }
   ],
   "source": [
    "!du -h transfer/*"
   ]
  },
  {
   "cell_type": "code",
   "execution_count": 10,
   "metadata": {},
   "outputs": [],
   "source": [
    "def frac_nan(df):\n",
    "    sender_nan = df[pd.isna(df['sender_first_edit'])]\n",
    "    receiver_nan = df[pd.isna(df['receiver_first_edit'])]\n",
    "    either_nan = df[(pd.isna(df['sender_first_edit'])) | (pd.isna(df['receiver_first_edit']))]\n",
    "    denom = len(df)\n",
    "    sender_nan_frac = len(sender_nan) / denom\n",
    "    receiver_nan_frac = len(receiver_nan) / denom\n",
    "    either_nan_frac = len(either_nan) / denom\n",
    "    return {'sender_nan_frac': sender_nan_frac,\n",
    "            'receiver_nan_frac': receiver_nan_frac,\n",
    "            'either_nan_frac': either_nan_frac}"
   ]
  },
  {
   "cell_type": "code",
   "execution_count": 11,
   "metadata": {},
   "outputs": [
    {
     "data": {
      "text/plain": [
       "{'either_nan_frac': 0.011387090296091773,\n",
       " 'receiver_nan_frac': 0.0020621767066922986,\n",
       " 'sender_nan_frac': 0.009625260647281085}"
      ]
     },
     "execution_count": 11,
     "metadata": {},
     "output_type": "execute_result"
    }
   ],
   "source": [
    "frac_nan(df)"
   ]
  },
  {
   "cell_type": "code",
   "execution_count": 12,
   "metadata": {},
   "outputs": [],
   "source": [
    "nan_fracs = {}\n",
    "for fname, df in files.items():\n",
    "    nan_fracs[fname] = frac_nan(df)\n",
    "nan_frac_df = pd.DataFrame.from_dict(nan_fracs, orient='index')"
   ]
  },
  {
   "cell_type": "code",
   "execution_count": 13,
   "metadata": {},
   "outputs": [
    {
     "data": {
      "text/html": [
       "<div>\n",
       "<style scoped>\n",
       "    .dataframe tbody tr th:only-of-type {\n",
       "        vertical-align: middle;\n",
       "    }\n",
       "\n",
       "    .dataframe tbody tr th {\n",
       "        vertical-align: top;\n",
       "    }\n",
       "\n",
       "    .dataframe thead th {\n",
       "        text-align: right;\n",
       "    }\n",
       "</style>\n",
       "<table border=\"1\" class=\"dataframe\">\n",
       "  <thead>\n",
       "    <tr style=\"text-align: right;\">\n",
       "      <th></th>\n",
       "      <th>sender_nan_frac</th>\n",
       "      <th>receiver_nan_frac</th>\n",
       "      <th>either_nan_frac</th>\n",
       "    </tr>\n",
       "  </thead>\n",
       "  <tbody>\n",
       "    <tr>\n",
       "      <th>wikithank_he_20180627.csv</th>\n",
       "      <td>0.001004</td>\n",
       "      <td>0.000854</td>\n",
       "      <td>0.001858</td>\n",
       "    </tr>\n",
       "    <tr>\n",
       "      <th>wikithank_de_20180712.csv</th>\n",
       "      <td>0.002218</td>\n",
       "      <td>0.000606</td>\n",
       "      <td>0.002805</td>\n",
       "    </tr>\n",
       "    <tr>\n",
       "      <th>wikithank_et_20180704.csv</th>\n",
       "      <td>0.002881</td>\n",
       "      <td>0.000206</td>\n",
       "      <td>0.003087</td>\n",
       "    </tr>\n",
       "    <tr>\n",
       "      <th>wikithank_no_20180703.csv</th>\n",
       "      <td>0.002247</td>\n",
       "      <td>0.001324</td>\n",
       "      <td>0.003170</td>\n",
       "    </tr>\n",
       "    <tr>\n",
       "      <th>wikithank_hu_20180627.csv</th>\n",
       "      <td>0.003014</td>\n",
       "      <td>0.000328</td>\n",
       "      <td>0.003343</td>\n",
       "    </tr>\n",
       "    <tr>\n",
       "      <th>wikithank_sv_20180628.csv</th>\n",
       "      <td>0.003561</td>\n",
       "      <td>0.000838</td>\n",
       "      <td>0.004150</td>\n",
       "    </tr>\n",
       "    <tr>\n",
       "      <th>wikilove_uk_20180703.csv</th>\n",
       "      <td>0.001439</td>\n",
       "      <td>0.002878</td>\n",
       "      <td>0.004317</td>\n",
       "    </tr>\n",
       "    <tr>\n",
       "      <th>wikithank_cs_20180704.csv</th>\n",
       "      <td>0.003793</td>\n",
       "      <td>0.000722</td>\n",
       "      <td>0.004392</td>\n",
       "    </tr>\n",
       "    <tr>\n",
       "      <th>wikithank_hr_20180702.csv</th>\n",
       "      <td>0.004275</td>\n",
       "      <td>0.000570</td>\n",
       "      <td>0.004845</td>\n",
       "    </tr>\n",
       "    <tr>\n",
       "      <th>wikithank_uk_20180703.csv</th>\n",
       "      <td>0.004158</td>\n",
       "      <td>0.000715</td>\n",
       "      <td>0.004860</td>\n",
       "    </tr>\n",
       "    <tr>\n",
       "      <th>wikithank_el_20180703.csv</th>\n",
       "      <td>0.004713</td>\n",
       "      <td>0.000973</td>\n",
       "      <td>0.005686</td>\n",
       "    </tr>\n",
       "    <tr>\n",
       "      <th>wikithank_nl_20180704.csv</th>\n",
       "      <td>0.005212</td>\n",
       "      <td>0.001593</td>\n",
       "      <td>0.006669</td>\n",
       "    </tr>\n",
       "    <tr>\n",
       "      <th>wikithank_fr_20180707.csv</th>\n",
       "      <td>0.005588</td>\n",
       "      <td>0.001508</td>\n",
       "      <td>0.006933</td>\n",
       "    </tr>\n",
       "    <tr>\n",
       "      <th>wikilove_he_20180626.csv</th>\n",
       "      <td>0.005771</td>\n",
       "      <td>0.003463</td>\n",
       "      <td>0.008310</td>\n",
       "    </tr>\n",
       "    <tr>\n",
       "      <th>wikilove_bn_20180702.csv</th>\n",
       "      <td>0.000000</td>\n",
       "      <td>0.008955</td>\n",
       "      <td>0.008955</td>\n",
       "    </tr>\n",
       "    <tr>\n",
       "      <th>wikithank_fi_20180704.csv</th>\n",
       "      <td>0.008832</td>\n",
       "      <td>0.000652</td>\n",
       "      <td>0.009411</td>\n",
       "    </tr>\n",
       "    <tr>\n",
       "      <th>wikithank_it_20180703.csv</th>\n",
       "      <td>0.008849</td>\n",
       "      <td>0.001868</td>\n",
       "      <td>0.010672</td>\n",
       "    </tr>\n",
       "    <tr>\n",
       "      <th>wikilove_fa_20180628.csv</th>\n",
       "      <td>0.004096</td>\n",
       "      <td>0.011659</td>\n",
       "      <td>0.013707</td>\n",
       "    </tr>\n",
       "    <tr>\n",
       "      <th>wikithank_fa_20180629.csv</th>\n",
       "      <td>0.013024</td>\n",
       "      <td>0.003540</td>\n",
       "      <td>0.015916</td>\n",
       "    </tr>\n",
       "    <tr>\n",
       "      <th>wikithank_es_20180626.csv</th>\n",
       "      <td>0.013939</td>\n",
       "      <td>0.003094</td>\n",
       "      <td>0.016594</td>\n",
       "    </tr>\n",
       "    <tr>\n",
       "      <th>wikithank_ru_20180705.csv</th>\n",
       "      <td>0.015085</td>\n",
       "      <td>0.003830</td>\n",
       "      <td>0.018767</td>\n",
       "    </tr>\n",
       "    <tr>\n",
       "      <th>wikilove_no_20180703.csv</th>\n",
       "      <td>0.012723</td>\n",
       "      <td>0.012723</td>\n",
       "      <td>0.019084</td>\n",
       "    </tr>\n",
       "    <tr>\n",
       "      <th>wikithank_pt_20180627.csv</th>\n",
       "      <td>0.017571</td>\n",
       "      <td>0.002614</td>\n",
       "      <td>0.019997</td>\n",
       "    </tr>\n",
       "    <tr>\n",
       "      <th>wikilove_hu_20180627.csv</th>\n",
       "      <td>0.015789</td>\n",
       "      <td>0.013158</td>\n",
       "      <td>0.022368</td>\n",
       "    </tr>\n",
       "    <tr>\n",
       "      <th>wikithank_ko_20180703.csv</th>\n",
       "      <td>0.015359</td>\n",
       "      <td>0.008678</td>\n",
       "      <td>0.023429</td>\n",
       "    </tr>\n",
       "    <tr>\n",
       "      <th>wikilove_ar_20180623.csv</th>\n",
       "      <td>0.008521</td>\n",
       "      <td>0.018583</td>\n",
       "      <td>0.024101</td>\n",
       "    </tr>\n",
       "    <tr>\n",
       "      <th>wikilove_ko_20180703.csv</th>\n",
       "      <td>0.009604</td>\n",
       "      <td>0.019208</td>\n",
       "      <td>0.024610</td>\n",
       "    </tr>\n",
       "    <tr>\n",
       "      <th>wikilove_es_20180625.csv</th>\n",
       "      <td>0.018370</td>\n",
       "      <td>0.008183</td>\n",
       "      <td>0.025718</td>\n",
       "    </tr>\n",
       "    <tr>\n",
       "      <th>wikithank_ar_20180623.csv</th>\n",
       "      <td>0.023409</td>\n",
       "      <td>0.004375</td>\n",
       "      <td>0.027191</td>\n",
       "    </tr>\n",
       "    <tr>\n",
       "      <th>wikithank_tr_20180628.csv</th>\n",
       "      <td>0.026359</td>\n",
       "      <td>0.003040</td>\n",
       "      <td>0.028326</td>\n",
       "    </tr>\n",
       "    <tr>\n",
       "      <th>wikithank_ro_20180704.csv</th>\n",
       "      <td>0.029215</td>\n",
       "      <td>0.000651</td>\n",
       "      <td>0.029773</td>\n",
       "    </tr>\n",
       "    <tr>\n",
       "      <th>wikilove_vi_20180703.csv</th>\n",
       "      <td>0.011256</td>\n",
       "      <td>0.020142</td>\n",
       "      <td>0.031398</td>\n",
       "    </tr>\n",
       "    <tr>\n",
       "      <th>wikithank_bn_20180702.csv</th>\n",
       "      <td>0.030090</td>\n",
       "      <td>0.002760</td>\n",
       "      <td>0.032850</td>\n",
       "    </tr>\n",
       "    <tr>\n",
       "      <th>wikithank_pl_20180704.csv</th>\n",
       "      <td>0.038638</td>\n",
       "      <td>0.001087</td>\n",
       "      <td>0.039515</td>\n",
       "    </tr>\n",
       "    <tr>\n",
       "      <th>wikithank_id_20180703.csv</th>\n",
       "      <td>0.043183</td>\n",
       "      <td>0.006513</td>\n",
       "      <td>0.047912</td>\n",
       "    </tr>\n",
       "    <tr>\n",
       "      <th>wikithank_vi_20180703.csv</th>\n",
       "      <td>0.047970</td>\n",
       "      <td>0.003739</td>\n",
       "      <td>0.051282</td>\n",
       "    </tr>\n",
       "    <tr>\n",
       "      <th>wikilove_tr_20180628.csv</th>\n",
       "      <td>0.036665</td>\n",
       "      <td>0.022064</td>\n",
       "      <td>0.056132</td>\n",
       "    </tr>\n",
       "    <tr>\n",
       "      <th>wikilove_pt_20180627.csv</th>\n",
       "      <td>0.059546</td>\n",
       "      <td>0.037672</td>\n",
       "      <td>0.070213</td>\n",
       "    </tr>\n",
       "    <tr>\n",
       "      <th>wikilove_sv_20180627.csv</th>\n",
       "      <td>0.133505</td>\n",
       "      <td>0.003093</td>\n",
       "      <td>0.135567</td>\n",
       "    </tr>\n",
       "  </tbody>\n",
       "</table>\n",
       "</div>"
      ],
      "text/plain": [
       "                           sender_nan_frac  receiver_nan_frac  either_nan_frac\n",
       "wikithank_he_20180627.csv         0.001004           0.000854         0.001858\n",
       "wikithank_de_20180712.csv         0.002218           0.000606         0.002805\n",
       "wikithank_et_20180704.csv         0.002881           0.000206         0.003087\n",
       "wikithank_no_20180703.csv         0.002247           0.001324         0.003170\n",
       "wikithank_hu_20180627.csv         0.003014           0.000328         0.003343\n",
       "wikithank_sv_20180628.csv         0.003561           0.000838         0.004150\n",
       "wikilove_uk_20180703.csv          0.001439           0.002878         0.004317\n",
       "wikithank_cs_20180704.csv         0.003793           0.000722         0.004392\n",
       "wikithank_hr_20180702.csv         0.004275           0.000570         0.004845\n",
       "wikithank_uk_20180703.csv         0.004158           0.000715         0.004860\n",
       "wikithank_el_20180703.csv         0.004713           0.000973         0.005686\n",
       "wikithank_nl_20180704.csv         0.005212           0.001593         0.006669\n",
       "wikithank_fr_20180707.csv         0.005588           0.001508         0.006933\n",
       "wikilove_he_20180626.csv          0.005771           0.003463         0.008310\n",
       "wikilove_bn_20180702.csv          0.000000           0.008955         0.008955\n",
       "wikithank_fi_20180704.csv         0.008832           0.000652         0.009411\n",
       "wikithank_it_20180703.csv         0.008849           0.001868         0.010672\n",
       "wikilove_fa_20180628.csv          0.004096           0.011659         0.013707\n",
       "wikithank_fa_20180629.csv         0.013024           0.003540         0.015916\n",
       "wikithank_es_20180626.csv         0.013939           0.003094         0.016594\n",
       "wikithank_ru_20180705.csv         0.015085           0.003830         0.018767\n",
       "wikilove_no_20180703.csv          0.012723           0.012723         0.019084\n",
       "wikithank_pt_20180627.csv         0.017571           0.002614         0.019997\n",
       "wikilove_hu_20180627.csv          0.015789           0.013158         0.022368\n",
       "wikithank_ko_20180703.csv         0.015359           0.008678         0.023429\n",
       "wikilove_ar_20180623.csv          0.008521           0.018583         0.024101\n",
       "wikilove_ko_20180703.csv          0.009604           0.019208         0.024610\n",
       "wikilove_es_20180625.csv          0.018370           0.008183         0.025718\n",
       "wikithank_ar_20180623.csv         0.023409           0.004375         0.027191\n",
       "wikithank_tr_20180628.csv         0.026359           0.003040         0.028326\n",
       "wikithank_ro_20180704.csv         0.029215           0.000651         0.029773\n",
       "wikilove_vi_20180703.csv          0.011256           0.020142         0.031398\n",
       "wikithank_bn_20180702.csv         0.030090           0.002760         0.032850\n",
       "wikithank_pl_20180704.csv         0.038638           0.001087         0.039515\n",
       "wikithank_id_20180703.csv         0.043183           0.006513         0.047912\n",
       "wikithank_vi_20180703.csv         0.047970           0.003739         0.051282\n",
       "wikilove_tr_20180628.csv          0.036665           0.022064         0.056132\n",
       "wikilove_pt_20180627.csv          0.059546           0.037672         0.070213\n",
       "wikilove_sv_20180627.csv          0.133505           0.003093         0.135567"
      ]
     },
     "execution_count": 13,
     "metadata": {},
     "output_type": "execute_result"
    }
   ],
   "source": [
    "nan_frac_df.sort_values('either_nan_frac')"
   ]
  },
  {
   "cell_type": "code",
   "execution_count": 14,
   "metadata": {},
   "outputs": [
    {
     "data": {
      "text/plain": [
       "sender_nan_frac      0.017730\n",
       "receiver_nan_frac    0.006114\n",
       "either_nan_frac      0.022254\n",
       "dtype: float64"
      ]
     },
     "execution_count": 14,
     "metadata": {},
     "output_type": "execute_result"
    }
   ],
   "source": [
    "nan_frac_df.mean()"
   ]
  },
  {
   "cell_type": "code",
   "execution_count": 15,
   "metadata": {},
   "outputs": [],
   "source": [
    "df_filled = df.fillna(nat_filler)"
   ]
  },
  {
   "cell_type": "code",
   "execution_count": 16,
   "metadata": {},
   "outputs": [
    {
     "data": {
      "text/plain": [
       "{'either_nan_frac': 0.0, 'receiver_nan_frac': 0.0, 'sender_nan_frac': 0.0}"
      ]
     },
     "execution_count": 16,
     "metadata": {},
     "output_type": "execute_result"
    }
   ],
   "source": [
    "frac_nan(df_filled)"
   ]
  },
  {
   "cell_type": "code",
   "execution_count": 17,
   "metadata": {},
   "outputs": [
    {
     "ename": "NameError",
     "evalue": "name 'df1' is not defined",
     "output_type": "error",
     "traceback": [
      "\u001b[0;31m---------------------------------------------------------------------------\u001b[0m",
      "\u001b[0;31mNameError\u001b[0m                                 Traceback (most recent call last)",
      "\u001b[0;32m<ipython-input-17-0a62c37d6ccf>\u001b[0m in \u001b[0;36m<module>\u001b[0;34m()\u001b[0m\n\u001b[0;32m----> 1\u001b[0;31m \u001b[0mlen\u001b[0m\u001b[0;34m(\u001b[0m\u001b[0mdf1\u001b[0m\u001b[0;34m)\u001b[0m\u001b[0;34m\u001b[0m\u001b[0m\n\u001b[0m",
      "\u001b[0;31mNameError\u001b[0m: name 'df1' is not defined"
     ]
    }
   ],
   "source": [
    "len(df1)"
   ]
  },
  {
   "cell_type": "code",
   "execution_count": null,
   "metadata": {
    "scrolled": false
   },
   "outputs": [],
   "source": [
    "df1.head()"
   ]
  },
  {
   "cell_type": "code",
   "execution_count": null,
   "metadata": {
    "scrolled": false
   },
   "outputs": [],
   "source": [
    "df1['thanklove']"
   ]
  },
  {
   "cell_type": "code",
   "execution_count": null,
   "metadata": {},
   "outputs": [],
   "source": [
    "ardf = files['wikithank_ar_20180623.csv']"
   ]
  },
  {
   "cell_type": "code",
   "execution_count": null,
   "metadata": {},
   "outputs": [],
   "source": [
    "ardf[pd.isna(ardf['receiver_first_edit'])]"
   ]
  },
  {
   "cell_type": "code",
   "execution_count": null,
   "metadata": {},
   "outputs": [],
   "source": [
    "ddtypes = df.dtypes"
   ]
  },
  {
   "cell_type": "code",
   "execution_count": null,
   "metadata": {},
   "outputs": [],
   "source": [
    "df[[c for c in df.columns if c!= 'wll_type']].to_feather('outputs/gratitude.feather')"
   ]
  },
  {
   "cell_type": "code",
   "execution_count": null,
   "metadata": {},
   "outputs": [],
   "source": [
    "df.tail()"
   ]
  },
  {
   "cell_type": "code",
   "execution_count": null,
   "metadata": {},
   "outputs": [],
   "source": [
    "len(df)"
   ]
  },
  {
   "cell_type": "code",
   "execution_count": null,
   "metadata": {},
   "outputs": [],
   "source": [
    "df[pd.isnull(df['wll_type'])]"
   ]
  },
  {
   "cell_type": "code",
   "execution_count": null,
   "metadata": {},
   "outputs": [],
   "source": [
    "table = pa.Table.from_pandas(trdf)"
   ]
  },
  {
   "cell_type": "code",
   "execution_count": null,
   "metadata": {},
   "outputs": [],
   "source": [
    "trdf = files['wikithank_tr_20180622.csv']\n",
    "trdf['a'] = 'a'\n",
    "trdf = trdf.astype({'a':'|S'})"
   ]
  },
  {
   "cell_type": "code",
   "execution_count": null,
   "metadata": {},
   "outputs": [],
   "source": [
    "trdf.dtypes"
   ]
  },
  {
   "cell_type": "code",
   "execution_count": null,
   "metadata": {},
   "outputs": [],
   "source": [
    "trdf.dtypes"
   ]
  },
  {
   "cell_type": "code",
   "execution_count": null,
   "metadata": {},
   "outputs": [],
   "source": [
    "df['lang'].value_counts()"
   ]
  },
  {
   "cell_type": "code",
   "execution_count": null,
   "metadata": {},
   "outputs": [],
   "source": [
    "df.dtypes"
   ]
  },
  {
   "cell_type": "code",
   "execution_count": null,
   "metadata": {
    "scrolled": true
   },
   "outputs": [],
   "source": [
    "odf = df.reset_index(drop=True)"
   ]
  },
  {
   "cell_type": "code",
   "execution_count": null,
   "metadata": {},
   "outputs": [],
   "source": [
    "odf.dtypes"
   ]
  },
  {
   "cell_type": "code",
   "execution_count": null,
   "metadata": {
    "scrolled": true
   },
   "outputs": [],
   "source": [
    "odf['lang'].astype(str)"
   ]
  },
  {
   "cell_type": "code",
   "execution_count": null,
   "metadata": {},
   "outputs": [],
   "source": [
    "odf.astype()to_feather('outputs/gratitude.feather')"
   ]
  },
  {
   "cell_type": "code",
   "execution_count": null,
   "metadata": {},
   "outputs": [],
   "source": [
    "#num observations"
   ]
  },
  {
   "cell_type": "code",
   "execution_count": null,
   "metadata": {},
   "outputs": [],
   "source": [
    "thankdf['timestamp'].hist"
   ]
  },
  {
   "cell_type": "code",
   "execution_count": null,
   "metadata": {},
   "outputs": [],
   "source": []
  }
 ],
 "metadata": {
  "kernelspec": {
   "display_name": "Python 3",
   "language": "python",
   "name": "python3"
  },
  "language_info": {
   "codemirror_mode": {
    "name": "ipython",
    "version": 3
   },
   "file_extension": ".py",
   "mimetype": "text/x-python",
   "name": "python",
   "nbconvert_exporter": "python",
   "pygments_lexer": "ipython3",
   "version": "3.6.5"
  }
 },
 "nbformat": 4,
 "nbformat_minor": 2
}
