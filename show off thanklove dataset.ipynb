{
 "cells": [
  {
   "cell_type": "markdown",
   "metadata": {},
   "source": [
    "# Goal: do something that features or at least showcases the different columns\n",
    "\n",
    "# Misc details\n",
    "+ code to make everything link\n",
    "    + need of vps and database axis\n",
    "    + discussion of pickle-necessity\n",
    "+ Cut-off date of June 1st 2016\n",
    "+ Which languages chose - ask Julia again"
   ]
  },
  {
   "cell_type": "markdown",
   "metadata": {},
   "source": [
    "## Previous research\n",
    "+ Current WMF (Swati Goel) [reference](http://paws-public.wmflabs.org/paws-public/User:Swagoel/ThanksAnalysis/ProjectNotes/ResultsDiscussion.txt)\n",
    "    + Observational analysis On fiwiki, kowiki, hiwiki.\n",
    "       - thank typically goes from less experienced to more experience.\n",
    "       - Thanks given and received is log-distributed\n",
    "+ Nemoto Note 2015 [reference](https://arxiv.org/pdf/1502.04312.pdf)\n",
    "    + Observational Cultural differences in 7 wikis\n",
    "        + There tend to be more unique recipients than senders.\n",
    "        + Thanks generall go \"up\", in both dimensions, total edits and length of tenure.\n",
    "        + See some, maybe not signficant effects that thanking  *decreases* edits days after.\n",
    "        "
   ]
  },
  {
   "cell_type": "markdown",
   "metadata": {},
   "source": [
    "Want to do a regression between spe and re1*, and spe and rtha. That is, is the more experienced the send that you gave you thank, the more you went to edit or thank more after? (Does who's thanking you make a difference?) (Otherwise we could just use a bot). "
   ]
  },
  {
   "cell_type": "code",
   "execution_count": 1,
   "metadata": {},
   "outputs": [
    {
     "name": "stdout",
     "output_type": "stream",
     "text": [
      "Populating the interactive namespace from numpy and matplotlib\n"
     ]
    }
   ],
   "source": [
    "#load \n",
    "import pandas as pd\n",
    "%pylab inline"
   ]
  },
  {
   "cell_type": "code",
   "execution_count": 6,
   "metadata": {},
   "outputs": [],
   "source": [
    "df = pd.read_feather('transfer/gratitude_20180814.feather')\n",
    "#df = pd.read_csv('transfer/gratitude_20180813.csv')"
   ]
  },
  {
   "cell_type": "code",
   "execution_count": 7,
   "metadata": {},
   "outputs": [
    {
     "data": {
      "text/plain": [
       "881.605654"
      ]
     },
     "execution_count": 7,
     "metadata": {},
     "output_type": "execute_result"
    }
   ],
   "source": [
    "df.memory_usage().sum() * 0.000001 # in megs"
   ]
  },
  {
   "cell_type": "code",
   "execution_count": 8,
   "metadata": {},
   "outputs": [
    {
     "data": {
      "text/plain": [
       "Index(['lang', 'timestamp', 'gratitude', 'receiver', 'sender', 'receiver_id',\n",
       "       'sender_id', 'wll_type', 'probably_deleted', 'receiver_prev_edits',\n",
       "       'receiver_prev_received', 'receiver_prev_received_indicator',\n",
       "       'receiver_prev_sent', 'receiver_prev_sent_indicator',\n",
       "       'receiver_edits_1d_after', 'receiver_edits_30d_after',\n",
       "       'receiver_edits_90d_after', 'receiver_edits_180d_after',\n",
       "       'receiver_gratitude_another_1d_after',\n",
       "       'receiver_gratitude_another_30d_after',\n",
       "       'receiver_gratitude_another_90d_after',\n",
       "       'receiver_gratitude_another_180d_after', 'receiver_first_edit',\n",
       "       'sender_prev_edits', 'sender_prev_received',\n",
       "       'sender_prev_received_indicator', 'sender_prev_sent',\n",
       "       'sender_prev_sent_indicator', 'sender_edits_1d_after',\n",
       "       'sender_edits_30d_after', 'sender_edits_90d_after',\n",
       "       'sender_edits_180d_after', 'sender_first_edit'],\n",
       "      dtype='object')"
      ]
     },
     "execution_count": 8,
     "metadata": {},
     "output_type": "execute_result"
    }
   ],
   "source": [
    "df.columns"
   ]
  },
  {
   "cell_type": "markdown",
   "metadata": {},
   "source": [
    "## Columns documentation\n",
    "\n",
    "### Descriptions\n",
    "- `lang`: the language of the wikipedia [as code](https://en.wikipedia.org/wiki/List_of_ISO_639-1_codes).\n",
    "- `timestamp` : when the gratitude occured, UTC\n",
    "- `gratitude` : the gratidue type, either `'thank'` or `'love'`\n",
    "- `receiver`: who received the gratitude. a username for thank, and userid for love\n",
    "- `sender`: who sent the gratitude. a username for thank, and userid for love\n",
    "- `receiver_id`: user id of who received the gratitude, identical to receiver for love\n",
    "- `sender_id`: user id of who sent the gratitude, identical to receiver for love\n",
    "- `wll_type`: the type of wikilove that was sent. null for thank\n",
    "- `probably_deleted`: if the user_id recorded didn't have any other history, in other tables, the account was probably deleted for some reason.\n",
    "### Previous user actions\n",
    "#### receiver\n",
    "- `receiver_prev_edits` : the number of edits the receiver made prior to this gratitude\n",
    "- `receiver_prev_received` : the number of same-type gratitudes received prior to this gratitude (i.e. number of thanks received before this thanks, or love received befor this love, NOT total gratitudes before this gratitude)\n",
    "- `receiver_prev_received_indicator` : binary indicator of whether receivier ever received same-type gratitude\n",
    "- `receiver_prev_sent` : the number of same-type gratitudes sent by receiver prior to this gratitude\n",
    "- `receiver_prev_sent_indicator` : binary indicator of whether receiver ever sent same-type gratitude\n",
    "- `receiver_first_edit`: the datetime when user made their first edit\n",
    "#### sender\n",
    "- `sender_prev_edits` : the number of edits the sender made prior to this gratitude\n",
    "- `sender_prev_sended` : the number of same-type gratitudes sent prior to this gratitude (i.e. number of thanks sent before this thanks, or love sent befor this love, NOT total gratitudes before this gratitude)\n",
    "- `sender_prev_sent_indicator` : binary indicator of whether sender ever sent same-type gratitude\n",
    "- `sender_prev_sent` : the number of same-type gratitudes sent by sender prior to this gratitude\n",
    "- `sender_prev_sent_indicator` : binary indicator of whether sender ever sent same-type gratitude\n",
    "- `sender_first_edit`: the datetime when user made their first edit\n",
    "### Future user actions\n",
    "#### receiver\n",
    "- `receiver_edits_1d_after` : the number of edits the receiver made 1 day after this gratitude\n",
    "- `receiver_edits_30d_after` : the number of edits the receiver made 30 days after this gratitude\n",
    "- `receiver_edits_90d_after` : the number of edits the receiver made 90 days after this gratitude\n",
    "- `receiver_edits_180d_after` : the number of edits the receiver made 180 days after this gratitude\n",
    "- `receiver_gratitude_another_1d_after` : the number of same-type gratitudes receiver makes to another user 1 day after this gratitude\n",
    "- `receiver_gratitude_another_30d_after` : the number of same-type gratitudes receiver makes to another user 1 day after this gratitude\n",
    "- `receiver_gratitude_another_90d_after` : the number of same-type gratitudes receiver makes to another user 1 day after this gratitude\n",
    "- `receiver_gratitude_another_180d_after` : the number of same-type gratitudes receiver makes to another user 1 day after this gratitude\n",
    "#### sender\n",
    "- `sender_edits_1d_after` : the number of edits the sender made 1 day after this gratitude\n",
    "- `sender_edits_30d_after` : the number of edits the sender made 30 days after this gratitude\n",
    "- `sender_edits_90d_after` : the number of edits the sender made 90 days after this gratitude\n",
    "- `sender_edits_180d_after` : the number of edits the sender made 180 days after this gratitude\n"
   ]
  },
  {
   "cell_type": "markdown",
   "metadata": {},
   "source": [
    "# Summary Statistics"
   ]
  },
  {
   "cell_type": "code",
   "execution_count": 9,
   "metadata": {},
   "outputs": [
    {
     "data": {
      "text/plain": [
       "(3849806, 33)"
      ]
     },
     "execution_count": 9,
     "metadata": {},
     "output_type": "execute_result"
    }
   ],
   "source": [
    "df.shape"
   ]
  },
  {
   "cell_type": "markdown",
   "metadata": {},
   "source": [
    "## Languages sizes"
   ]
  },
  {
   "cell_type": "code",
   "execution_count": 10,
   "metadata": {},
   "outputs": [
    {
     "data": {
      "text/plain": [
       "<matplotlib.axes._subplots.AxesSubplot at 0x7fda1f79f908>"
      ]
     },
     "execution_count": 10,
     "metadata": {},
     "output_type": "execute_result"
    },
    {
     "data": {
      "image/png": "[encoded data removed]",
      "text/plain": [
       "<Figure size 432x288 with 1 Axes>"
      ]
     },
     "metadata": {},
     "output_type": "display_data"
    }
   ],
   "source": [
    "df['lang'].value_counts().plot(kind='bar')"
   ]
  },
  {
   "cell_type": "code",
   "execution_count": 11,
   "metadata": {},
   "outputs": [
    {
     "data": {
      "text/plain": [
       "en    1589088\n",
       "de     539719\n",
       "fr     351491\n",
       "ru     161883\n",
       "es     144951\n",
       "it     132220\n",
       "pt     124073\n",
       "ar      84773\n",
       "he      84002\n",
       "pl      80982\n",
       "nl      80966\n",
       "sv      78318\n",
       "uk      74772\n",
       "fa      69617\n",
       "cs      65119\n",
       "hu      34266\n",
       "tr      31042\n",
       "no      25705\n",
       "fi      13814\n",
       "el      13367\n",
       "ko      13190\n",
       "bn      11568\n",
       "id      11208\n",
       "vi      11048\n",
       "ro      10748\n",
       "hr       7017\n",
       "et       4859\n",
       "Name: lang, dtype: int64"
      ]
     },
     "execution_count": 11,
     "metadata": {},
     "output_type": "execute_result"
    }
   ],
   "source": [
    "df['lang'].value_counts()"
   ]
  },
  {
   "cell_type": "code",
   "execution_count": 12,
   "metadata": {},
   "outputs": [
    {
     "data": {
      "text/plain": [
       "(27,)"
      ]
     },
     "execution_count": 12,
     "metadata": {},
     "output_type": "execute_result"
    }
   ],
   "source": [
    "df['lang'].value_counts().shape"
   ]
  },
  {
   "cell_type": "code",
   "execution_count": 34,
   "metadata": {},
   "outputs": [],
   "source": [
    "lang_grat = df.groupby(['lang','gratitude']).agg({'timestamp':len}).sort_values(by='timestamp', ascending=False).rename(mapper={'timestamp':'observations'}, axis='columns')"
   ]
  },
  {
   "cell_type": "code",
   "execution_count": 35,
   "metadata": {},
   "outputs": [
    {
     "data": {
      "text/html": [
       "<div>\n",
       "<style scoped>\n",
       "    .dataframe tbody tr th:only-of-type {\n",
       "        vertical-align: middle;\n",
       "    }\n",
       "\n",
       "    .dataframe tbody tr th {\n",
       "        vertical-align: top;\n",
       "    }\n",
       "\n",
       "    .dataframe thead th {\n",
       "        text-align: right;\n",
       "    }\n",
       "</style>\n",
       "<table border=\"1\" class=\"dataframe\">\n",
       "  <thead>\n",
       "    <tr style=\"text-align: right;\">\n",
       "      <th></th>\n",
       "      <th></th>\n",
       "      <th>observations</th>\n",
       "    </tr>\n",
       "    <tr>\n",
       "      <th>lang</th>\n",
       "      <th>gratitude</th>\n",
       "      <th></th>\n",
       "    </tr>\n",
       "  </thead>\n",
       "  <tbody>\n",
       "    <tr>\n",
       "      <th>en</th>\n",
       "      <th>thank</th>\n",
       "      <td>1472544</td>\n",
       "    </tr>\n",
       "    <tr>\n",
       "      <th>de</th>\n",
       "      <th>thank</th>\n",
       "      <td>539719</td>\n",
       "    </tr>\n",
       "    <tr>\n",
       "      <th>fr</th>\n",
       "      <th>thank</th>\n",
       "      <td>351491</td>\n",
       "    </tr>\n",
       "    <tr>\n",
       "      <th>ru</th>\n",
       "      <th>thank</th>\n",
       "      <td>161883</td>\n",
       "    </tr>\n",
       "    <tr>\n",
       "      <th>es</th>\n",
       "      <th>thank</th>\n",
       "      <td>138963</td>\n",
       "    </tr>\n",
       "    <tr>\n",
       "      <th>it</th>\n",
       "      <th>thank</th>\n",
       "      <td>132220</td>\n",
       "    </tr>\n",
       "    <tr>\n",
       "      <th>pt</th>\n",
       "      <th>thank</th>\n",
       "      <td>116667</td>\n",
       "    </tr>\n",
       "    <tr>\n",
       "      <th>en</th>\n",
       "      <th>love</th>\n",
       "      <td>116544</td>\n",
       "    </tr>\n",
       "    <tr>\n",
       "      <th>pl</th>\n",
       "      <th>thank</th>\n",
       "      <td>80982</td>\n",
       "    </tr>\n",
       "    <tr>\n",
       "      <th>nl</th>\n",
       "      <th>thank</th>\n",
       "      <td>80966</td>\n",
       "    </tr>\n",
       "    <tr>\n",
       "      <th>he</th>\n",
       "      <th>thank</th>\n",
       "      <td>79670</td>\n",
       "    </tr>\n",
       "    <tr>\n",
       "      <th>sv</th>\n",
       "      <th>thank</th>\n",
       "      <td>76378</td>\n",
       "    </tr>\n",
       "    <tr>\n",
       "      <th>uk</th>\n",
       "      <th>thank</th>\n",
       "      <td>74077</td>\n",
       "    </tr>\n",
       "    <tr>\n",
       "      <th>ar</th>\n",
       "      <th>thank</th>\n",
       "      <td>72450</td>\n",
       "    </tr>\n",
       "    <tr>\n",
       "      <th>cs</th>\n",
       "      <th>thank</th>\n",
       "      <td>65119</td>\n",
       "    </tr>\n",
       "    <tr>\n",
       "      <th>fa</th>\n",
       "      <th>thank</th>\n",
       "      <td>63270</td>\n",
       "    </tr>\n",
       "    <tr>\n",
       "      <th>hu</th>\n",
       "      <th>thank</th>\n",
       "      <td>33506</td>\n",
       "    </tr>\n",
       "    <tr>\n",
       "      <th>tr</th>\n",
       "      <th>thank</th>\n",
       "      <td>27960</td>\n",
       "    </tr>\n",
       "    <tr>\n",
       "      <th>no</th>\n",
       "      <th>thank</th>\n",
       "      <td>24919</td>\n",
       "    </tr>\n",
       "    <tr>\n",
       "      <th>fi</th>\n",
       "      <th>thank</th>\n",
       "      <td>13814</td>\n",
       "    </tr>\n",
       "    <tr>\n",
       "      <th>el</th>\n",
       "      <th>thank</th>\n",
       "      <td>13367</td>\n",
       "    </tr>\n",
       "    <tr>\n",
       "      <th>ar</th>\n",
       "      <th>love</th>\n",
       "      <td>12323</td>\n",
       "    </tr>\n",
       "    <tr>\n",
       "      <th>ko</th>\n",
       "      <th>thank</th>\n",
       "      <td>11524</td>\n",
       "    </tr>\n",
       "    <tr>\n",
       "      <th>bn</th>\n",
       "      <th>thank</th>\n",
       "      <td>11233</td>\n",
       "    </tr>\n",
       "    <tr>\n",
       "      <th>id</th>\n",
       "      <th>thank</th>\n",
       "      <td>11208</td>\n",
       "    </tr>\n",
       "    <tr>\n",
       "      <th>ro</th>\n",
       "      <th>thank</th>\n",
       "      <td>10748</td>\n",
       "    </tr>\n",
       "    <tr>\n",
       "      <th>vi</th>\n",
       "      <th>thank</th>\n",
       "      <td>9360</td>\n",
       "    </tr>\n",
       "    <tr>\n",
       "      <th>pt</th>\n",
       "      <th>love</th>\n",
       "      <td>7406</td>\n",
       "    </tr>\n",
       "    <tr>\n",
       "      <th>hr</th>\n",
       "      <th>thank</th>\n",
       "      <td>7017</td>\n",
       "    </tr>\n",
       "    <tr>\n",
       "      <th>fa</th>\n",
       "      <th>love</th>\n",
       "      <td>6347</td>\n",
       "    </tr>\n",
       "    <tr>\n",
       "      <th>es</th>\n",
       "      <th>love</th>\n",
       "      <td>5988</td>\n",
       "    </tr>\n",
       "    <tr>\n",
       "      <th>et</th>\n",
       "      <th>thank</th>\n",
       "      <td>4859</td>\n",
       "    </tr>\n",
       "    <tr>\n",
       "      <th>he</th>\n",
       "      <th>love</th>\n",
       "      <td>4332</td>\n",
       "    </tr>\n",
       "    <tr>\n",
       "      <th>tr</th>\n",
       "      <th>love</th>\n",
       "      <td>3082</td>\n",
       "    </tr>\n",
       "    <tr>\n",
       "      <th>sv</th>\n",
       "      <th>love</th>\n",
       "      <td>1940</td>\n",
       "    </tr>\n",
       "    <tr>\n",
       "      <th>vi</th>\n",
       "      <th>love</th>\n",
       "      <td>1688</td>\n",
       "    </tr>\n",
       "    <tr>\n",
       "      <th>ko</th>\n",
       "      <th>love</th>\n",
       "      <td>1666</td>\n",
       "    </tr>\n",
       "    <tr>\n",
       "      <th>no</th>\n",
       "      <th>love</th>\n",
       "      <td>786</td>\n",
       "    </tr>\n",
       "    <tr>\n",
       "      <th>hu</th>\n",
       "      <th>love</th>\n",
       "      <td>760</td>\n",
       "    </tr>\n",
       "    <tr>\n",
       "      <th>uk</th>\n",
       "      <th>love</th>\n",
       "      <td>695</td>\n",
       "    </tr>\n",
       "    <tr>\n",
       "      <th>bn</th>\n",
       "      <th>love</th>\n",
       "      <td>335</td>\n",
       "    </tr>\n",
       "  </tbody>\n",
       "</table>\n",
       "</div>"
      ],
      "text/plain": [
       "                observations\n",
       "lang gratitude              \n",
       "en   thank           1472544\n",
       "de   thank            539719\n",
       "fr   thank            351491\n",
       "ru   thank            161883\n",
       "es   thank            138963\n",
       "it   thank            132220\n",
       "pt   thank            116667\n",
       "en   love             116544\n",
       "pl   thank             80982\n",
       "nl   thank             80966\n",
       "he   thank             79670\n",
       "sv   thank             76378\n",
       "uk   thank             74077\n",
       "ar   thank             72450\n",
       "cs   thank             65119\n",
       "fa   thank             63270\n",
       "hu   thank             33506\n",
       "tr   thank             27960\n",
       "no   thank             24919\n",
       "fi   thank             13814\n",
       "el   thank             13367\n",
       "ar   love              12323\n",
       "ko   thank             11524\n",
       "bn   thank             11233\n",
       "id   thank             11208\n",
       "ro   thank             10748\n",
       "vi   thank              9360\n",
       "pt   love               7406\n",
       "hr   thank              7017\n",
       "fa   love               6347\n",
       "es   love               5988\n",
       "et   thank              4859\n",
       "he   love               4332\n",
       "tr   love               3082\n",
       "sv   love               1940\n",
       "vi   love               1688\n",
       "ko   love               1666\n",
       "no   love                786\n",
       "hu   love                760\n",
       "uk   love                695\n",
       "bn   love                335"
      ]
     },
     "execution_count": 35,
     "metadata": {},
     "output_type": "execute_result"
    }
   ],
   "source": [
    "lang_grat"
   ]
  },
  {
   "cell_type": "markdown",
   "metadata": {},
   "source": [
    "## Gratitude Types, split"
   ]
  },
  {
   "cell_type": "code",
   "execution_count": 36,
   "metadata": {},
   "outputs": [
    {
     "data": {
      "text/plain": [
       "thank    3685914\n",
       "love      163892\n",
       "Name: gratitude, dtype: int64"
      ]
     },
     "execution_count": 36,
     "metadata": {},
     "output_type": "execute_result"
    }
   ],
   "source": [
    "df['gratitude'].value_counts()"
   ]
  },
  {
   "cell_type": "code",
   "execution_count": 37,
   "metadata": {},
   "outputs": [],
   "source": [
    "month_counts = df['timestamp'].apply(lambda x: (x.year, x.month)).value_counts()"
   ]
  },
  {
   "cell_type": "markdown",
   "metadata": {},
   "source": [
    "## Temporal density"
   ]
  },
  {
   "cell_type": "code",
   "execution_count": 38,
   "metadata": {},
   "outputs": [],
   "source": [
    "month_counts_sorted = month_counts.sort_index()"
   ]
  },
  {
   "cell_type": "code",
   "execution_count": 39,
   "metadata": {},
   "outputs": [
    {
     "data": {
      "text/plain": [
       "<matplotlib.axes._subplots.AxesSubplot at 0x7fda1f6aa828>"
      ]
     },
     "execution_count": 39,
     "metadata": {},
     "output_type": "execute_result"
    },
    {
     "data": {
      "image/png": "[encoded data removed]",
      "text/plain": [
       "<Figure size 1280x640 with 1 Axes>"
      ]
     },
     "metadata": {},
     "output_type": "display_data"
    }
   ],
   "source": [
    "figure(num=None, figsize=(16, 8), dpi=80, facecolor='w', edgecolor='k')\n",
    "month_counts_sorted.plot(kind='bar', color='grey')"
   ]
  },
  {
   "cell_type": "markdown",
   "metadata": {},
   "source": [
    "## Top Wikilove type by language"
   ]
  },
  {
   "cell_type": "code",
   "execution_count": 40,
   "metadata": {},
   "outputs": [],
   "source": [
    "#wll_type\n",
    "lang_wll = df[['lang','wll_type','timestamp']].groupby(['lang', 'wll_type']).count()"
   ]
  },
  {
   "cell_type": "code",
   "execution_count": 41,
   "metadata": {},
   "outputs": [],
   "source": [
    "g = lang_wll['timestamp'].groupby(level=0, group_keys=False)"
   ]
  },
  {
   "cell_type": "code",
   "execution_count": 42,
   "metadata": {},
   "outputs": [
    {
     "data": {
      "text/plain": [
       "lang  wll_type         \n",
       "ar    barnstar-original     2101\n",
       "bn    makeyourown             42\n",
       "en    makeyourown          19053\n",
       "es    makeyourown           3160\n",
       "fa    makeyourown           1128\n",
       "he    makeyourown            810\n",
       "hu    makeyourown            156\n",
       "ko    barnstar-original      345\n",
       "no    makeyourown            166\n",
       "pt    makeyourown           1207\n",
       "sv    makeyourown            991\n",
       "tr    barnstar-original      576\n",
       "uk    makeyourown            332\n",
       "vi    barnstar-original      198\n",
       "Name: timestamp, dtype: int64"
      ]
     },
     "execution_count": 42,
     "metadata": {},
     "output_type": "execute_result"
    }
   ],
   "source": [
    "g.nlargest(1)"
   ]
  },
  {
   "cell_type": "markdown",
   "metadata": {},
   "source": [
    "## Percentage probably deleted"
   ]
  },
  {
   "cell_type": "code",
   "execution_count": 43,
   "metadata": {},
   "outputs": [
    {
     "data": {
      "text/plain": [
       "0.012047360308545418"
      ]
     },
     "execution_count": 43,
     "metadata": {},
     "output_type": "execute_result"
    }
   ],
   "source": [
    "#probably deleted\n",
    "#percentage of people probably deleted\n",
    "len(df[df['probably_deleted']==True]) / len(df)"
   ]
  },
  {
   "cell_type": "markdown",
   "metadata": {},
   "source": [
    "## {Receiver/sender} previously {Received/sent}\n",
    "\n",
    "* For each gratitude, has the receiver received more gratitude or the sender sent more gratitude?\n",
    "    - Are the editors doing more good things, or the senders being more generous\n"
   ]
  },
  {
   "cell_type": "code",
   "execution_count": 44,
   "metadata": {},
   "outputs": [
    {
     "data": {
      "text/plain": [
       "receiver_prev_received     83.0\n",
       "receiver_prev_sent         29.0\n",
       "sender_prev_received       53.0\n",
       "sender_prev_sent          108.0\n",
       "dtype: float64"
      ]
     },
     "execution_count": 44,
     "metadata": {},
     "output_type": "execute_result"
    }
   ],
   "source": [
    "df[['receiver_prev_received', 'receiver_prev_sent', 'sender_prev_received', 'sender_prev_sent']].median()"
   ]
  },
  {
   "cell_type": "code",
   "execution_count": 45,
   "metadata": {},
   "outputs": [
    {
     "data": {
      "image/png": "[encoded data removed]",
      "text/plain": [
       "<Figure size 432x288 with 1 Axes>"
      ]
     },
     "metadata": {},
     "output_type": "display_data"
    }
   ],
   "source": [
    "# share axis\n",
    "from matplotlib import pyplot\n",
    "rs_cols = df[['receiver_prev_received', 'receiver_prev_sent', 'sender_prev_received', 'sender_prev_sent']]\n",
    "bins = numpy.linspace(rs_cols.min().min(),10, 10)\n",
    "\n",
    "pyplot.hist(rs_cols.values, bins, alpha=1, label=['rpr','rps','spr','sps'])\n",
    "# pyplot.hist(df['sender_prev_sent'], alpha=0.5, label='y')\n",
    "pyplot.legend(loc='upper right')\n",
    "pyplot.show()\n"
   ]
  },
  {
   "cell_type": "markdown",
   "metadata": {},
   "source": [
    "What we can see in this plot is that for any gratitude it's more common that the recevier has previously sent 0, and least that the sender has previously sent 0.\n",
    "But the distributions are similar thereafter. My hypothesis is that users learn about gratitude through receiving it (which is why it's most common for the receiver to have 0), and since there are a few people sending the most of the gratitude, its less likely that this is the sender's first time sending gratitude."
   ]
  },
  {
   "cell_type": "code",
   "execution_count": 46,
   "metadata": {},
   "outputs": [
    {
     "data": {
      "text/plain": [
       "<matplotlib.axes._subplots.AxesSubplot at 0x7fd944052a90>"
      ]
     },
     "execution_count": 46,
     "metadata": {},
     "output_type": "execute_result"
    },
    {
     "data": {
      "image/png": "[encoded data removed]",
      "text/plain": [
       "<Figure size 432x288 with 1 Axes>"
      ]
     },
     "metadata": {},
     "output_type": "display_data"
    }
   ],
   "source": [
    "df['receiver_received_min_sender_sent'] = df['receiver_prev_received'] - df['sender_prev_sent']\n",
    "df['receiver_received_min_sender_sent'].hist()"
   ]
  },
  {
   "cell_type": "markdown",
   "metadata": {},
   "source": [
    "more weight on the left means that there are more exeperienced senders sending to unexperienced receivers"
   ]
  },
  {
   "cell_type": "markdown",
   "metadata": {},
   "source": [
    "## Average number of previous edits for sender or receiver at each gratitude (2d- 2 scatterplots x-rpr, y-rpe && x-sps x-spe)"
   ]
  },
  {
   "cell_type": "code",
   "execution_count": 47,
   "metadata": {},
   "outputs": [
    {
     "data": {
      "image/png": "[encoded data removed]",
      "text/plain": [
       "<Figure size 432x288 with 1 Axes>"
      ]
     },
     "metadata": {},
     "output_type": "display_data"
    },
    {
     "data": {
      "image/png": "[encoded data removed]",
      "text/plain": [
       "<Figure size 432x288 with 1 Axes>"
      ]
     },
     "metadata": {},
     "output_type": "display_data"
    }
   ],
   "source": [
    "for y, x, c, title in (('receiver_prev_received', 'receiver_prev_edits', 'green', 'Receiver gratitudes by previously edits'), \n",
    "                ('sender_prev_sent', 'sender_prev_edits', 'purple', 'Sent gratitude by edits')):\n",
    "    subdf = df[[x, y]].sample(frac=0.005)\n",
    "    subdf.plot(kind='scatter', x=x, y=y, c=c)\n",
    "    plt.show()"
   ]
  },
  {
   "cell_type": "markdown",
   "metadata": {},
   "source": [
    "Analysis. I was interseted in the linearity of these plots. People seem to get as many gratitudes in line with how many edits they've made. On the other hand people seem to send more gratitude at a faster pace than they edit."
   ]
  },
  {
   "cell_type": "markdown",
   "metadata": {},
   "source": [
    "## Number of previous edits at first thank or love (over-time)\n",
    "Are people being thanked earlier as the features mature."
   ]
  },
  {
   "cell_type": "code",
   "execution_count": 48,
   "metadata": {},
   "outputs": [],
   "source": [
    "first_grat = df[df['receiver_prev_received_indicator']==False]"
   ]
  },
  {
   "cell_type": "code",
   "execution_count": 49,
   "metadata": {},
   "outputs": [
    {
     "data": {
      "text/plain": [
       "Timestamp('2011-06-30 18:34:30')"
      ]
     },
     "execution_count": 49,
     "metadata": {},
     "output_type": "execute_result"
    }
   ],
   "source": [
    "first_grat['timestamp'].min()"
   ]
  },
  {
   "cell_type": "code",
   "execution_count": 50,
   "metadata": {},
   "outputs": [
    {
     "data": {
      "text/plain": [
       "0"
      ]
     },
     "execution_count": 50,
     "metadata": {},
     "output_type": "execute_result"
    }
   ],
   "source": [
    "first_grat['receiver_prev_edits'].min()"
   ]
  },
  {
   "cell_type": "code",
   "execution_count": 51,
   "metadata": {},
   "outputs": [
    {
     "name": "stderr",
     "output_type": "stream",
     "text": [
      "/usr/local/lib/python3.6/dist-packages/ipykernel_launcher.py:1: SettingWithCopyWarning: \n",
      "A value is trying to be set on a copy of a slice from a DataFrame.\n",
      "Try using .loc[row_indexer,col_indexer] = value instead\n",
      "\n",
      "See the caveats in the documentation: http://pandas.pydata.org/pandas-docs/stable/indexing.html#indexing-view-versus-copy\n",
      "  \"\"\"Entry point for launching an IPython kernel.\n"
     ]
    }
   ],
   "source": [
    "first_grat['month'] = first_grat['timestamp'].apply(lambda x: (x.year, x.month))"
   ]
  },
  {
   "cell_type": "code",
   "execution_count": 52,
   "metadata": {},
   "outputs": [],
   "source": [
    "month_first_grat = first_grat.groupby('month').agg({'receiver_prev_edits':mean})"
   ]
  },
  {
   "cell_type": "code",
   "execution_count": 53,
   "metadata": {},
   "outputs": [
    {
     "data": {
      "text/plain": [
       "<matplotlib.axes._subplots.AxesSubplot at 0x7fda15ab18d0>"
      ]
     },
     "execution_count": 53,
     "metadata": {},
     "output_type": "execute_result"
    },
    {
     "data": {
      "image/png": "[encoded data removed]",
      "text/plain": [
       "<Figure size 432x288 with 1 Axes>"
      ]
     },
     "metadata": {},
     "output_type": "display_data"
    }
   ],
   "source": [
    "month_first_grat.plot()"
   ]
  },
  {
   "cell_type": "markdown",
   "metadata": {},
   "source": [
    "Analysis. It does look like as the features mature, the first gratitude is coming closer to people with less edit experience."
   ]
  },
  {
   "cell_type": "markdown",
   "metadata": {},
   "source": [
    "## Histograms of thank another, each of the time series overlapping\n",
    "### same technique three times for sender edits, receiver edits, and thank another"
   ]
  },
  {
   "cell_type": "code",
   "execution_count": 54,
   "metadata": {},
   "outputs": [],
   "source": [
    "receiver_edit_after_cols = df[['receiver_edits_1d_after', 'receiver_edits_30d_after', 'receiver_edits_90d_after', 'receiver_edits_180d_after']].mean()\n",
    "sender_edit_after_cols = df[['sender_edits_1d_after', 'sender_edits_30d_after', 'sender_edits_90d_after', 'sender_edits_180d_after']].mean()\n",
    "receiver_gratitude_after_cols = df[['receiver_gratitude_another_1d_after', 'receiver_gratitude_another_30d_after', 'receiver_gratitude_another_90d_after', 'receiver_gratitude_another_180d_after']].mean()"
   ]
  },
  {
   "cell_type": "code",
   "execution_count": 55,
   "metadata": {},
   "outputs": [
    {
     "data": {
      "image/png": "[encoded data removed]",
      "text/plain": [
       "<Figure size 432x288 with 1 Axes>"
      ]
     },
     "metadata": {},
     "output_type": "display_data"
    },
    {
     "data": {
      "image/png": "[encoded data removed]",
      "text/plain": [
       "<Figure size 432x288 with 1 Axes>"
      ]
     },
     "metadata": {},
     "output_type": "display_data"
    },
    {
     "data": {
      "image/png": "[encoded data removed]",
      "text/plain": [
       "<Figure size 432x288 with 1 Axes>"
      ]
     },
     "metadata": {},
     "output_type": "display_data"
    }
   ],
   "source": [
    "for subdf, title in [(receiver_edit_after_cols, 'Receiver edits after gratitude by period'),\n",
    "                     (sender_edit_after_cols, 'Sender edits after gratitude by period'),\n",
    "                     (receiver_gratitude_after_cols, 'Receiver gratitude another after gratitude by period'),\n",
    "                    ]:\n",
    "        subdf.plot(kind='bar', title=title)\n",
    "        plt.show()\n",
    "# i should do this in ggplot with faceting"
   ]
  },
  {
   "cell_type": "markdown",
   "metadata": {},
   "source": [
    "Analysis. Well I expected these to look more different than they do. Visually, all these independent variables seem to react approximately equally to gratitude. Hrmm? I would have thought that receiver edits would have spiked sooner."
   ]
  },
  {
   "cell_type": "markdown",
   "metadata": {},
   "source": [
    "## Preparing a dataframe for output for the grand croissant hypothesis.\n",
    "\n",
    "Dataframe for main analysis:\n",
    "* Existing thanks & love dataframes, which have been filtered to only include:\n",
    "* First thanks/love\n",
    "New column: \n",
    "* recalculate the number of future thanks/love that aren't reciprocial to the sender\n"
   ]
  },
  {
   "cell_type": "code",
   "execution_count": 56,
   "metadata": {},
   "outputs": [],
   "source": [
    "from collections import defaultdict\n",
    "\n",
    "lovedf = df[df['gratitude']=='love']"
   ]
  },
  {
   "cell_type": "code",
   "execution_count": 57,
   "metadata": {},
   "outputs": [],
   "source": [
    "#need to do this perlanguage and then glue-back?\n",
    "love_langs = lovedf.groupby('lang')"
   ]
  },
  {
   "cell_type": "code",
   "execution_count": 59,
   "metadata": {},
   "outputs": [
    {
     "name": "stderr",
     "output_type": "stream",
     "text": [
      "/usr/local/lib/python3.6/dist-packages/ipykernel_launcher.py:9: SettingWithCopyWarning: \n",
      "A value is trying to be set on a copy of a slice from a DataFrame.\n",
      "Try using .loc[row_indexer,col_indexer] = value instead\n",
      "\n",
      "See the caveats in the documentation: http://pandas.pydata.org/pandas-docs/stable/indexing.html#indexing-view-versus-copy\n",
      "  if __name__ == '__main__':\n"
     ]
    }
   ],
   "source": [
    "def add_recip(langdf):\n",
    "    def is_reciprocal(row):\n",
    "        time_cond = langdf['timestamp'] < row['timestamp']\n",
    "        recip_cond1 = langdf['sender_id'] == row['receiver_id']\n",
    "        recip_cond2 = langdf['receiver_id'] == row['sender_id']\n",
    "        nonself_cond = langdf['sender_id'] != langdf['receiver_id'] #surprisingly a lot of people do this\n",
    "        reciprocations = langdf[(time_cond) & (recip_cond1) & (recip_cond2) & (nonself_cond)]\n",
    "        return False if len(reciprocations)==0 else True\n",
    "    langdf['is_reciprocal'] = langdf.apply(is_reciprocal, axis=1)\n",
    "    return langdf\n",
    "\n",
    "with_recip = {}\n",
    "for lang, df in love_langs:\n",
    "    with_recip[lang] = add_recip(df)"
   ]
  },
  {
   "cell_type": "code",
   "execution_count": 60,
   "metadata": {},
   "outputs": [
    {
     "name": "stdout",
     "output_type": "stream",
     "text": [
      "ar is 0.11 frac reciprocal\n",
      "bn is 0.04 frac reciprocal\n",
      "en is 0.05 frac reciprocal\n",
      "es is 0.02 frac reciprocal\n",
      "fa is 0.09 frac reciprocal\n",
      "he is 0.07 frac reciprocal\n",
      "hu is 0.01 frac reciprocal\n",
      "ko is 0.03 frac reciprocal\n",
      "no is 0.05 frac reciprocal\n",
      "pt is 0.06 frac reciprocal\n",
      "sv is 0.01 frac reciprocal\n",
      "tr is 0.07 frac reciprocal\n",
      "uk is 0.01 frac reciprocal\n",
      "vi is 0.19 frac reciprocal\n"
     ]
    }
   ],
   "source": [
    "for lang, langdf in with_recip.items():\n",
    "    recips = langdf[langdf['is_reciprocal']==True]\n",
    "    print(f'{lang} is {\"%0.2f\" % (len(recips)/len(langdf)) } frac reciprocal')"
   ]
  },
  {
   "cell_type": "markdown",
   "metadata": {},
   "source": [
    "Dataframe for main analysis:\n",
    "Existing thanks & love dataframes, which have been filtered to only include:\n",
    "First thanks/love\n",
    "New column: \n",
    "recalculate the number of future thanks/love that aren't reciprocial to the sender\n"
   ]
  }
 ],
 "metadata": {
  "kernelspec": {
   "display_name": "Python 3",
   "language": "python",
   "name": "python3"
  },
  "language_info": {
   "codemirror_mode": {
    "name": "ipython",
    "version": 3
   },
   "file_extension": ".py",
   "mimetype": "text/x-python",
   "name": "python",
   "nbconvert_exporter": "python",
   "pygments_lexer": "ipython3",
   "version": "3.6.5"
  }
 },
 "nbformat": 4,
 "nbformat_minor": 2
}
