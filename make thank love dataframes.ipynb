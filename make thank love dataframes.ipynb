{
 "cells": [
  {
   "cell_type": "markdown",
   "metadata": {},
   "source": [
    "# Purpose\n",
    "Create historical measures data frames for gratitude projects\n",
    "\n",
    "\n",
    "## Thanks\n",
    "A dataframe where each row represents one each thanks \n",
    "+ Sender columns\n",
    "    + Count of previously received thanks\n",
    "    + Did they previously receive thanks? (binary indicator)\n",
    "    + Count of previously sent thanks\n",
    "    + Did they previously send thanks? (binary)\n",
    "    +(summary information about the account)\n",
    "    + When registered?\n",
    "    + Number of previous edits\n",
    "    + Had they previously edited the page associated with the thanks\n",
    "    + Edited the page associated with the thanks within the next day after sending thanks\n",
    "+ Receiver columns\n",
    "    + Count of previously received thanks\n",
    "    + Did they previously receive thanks? (binary indicator)\n",
    "    + Count of previously sent thanks\n",
    "    + Did they previously send thanks? (binary)\n",
    "    + (summary information about the account)\n",
    "    + When registered?\n",
    "    + Number of previous edits\n",
    "    + Over the next six months (could be three):\n",
    "    + How many contributions they made\n",
    "    + How many thanks they sent to others\n",
    "+ Thanks-wide columns\n",
    "    + What page it was\n",
    "    + Thanks timestamp\n",
    "    + How many previous edits did the page receive\n",
    "    + When was the page first created?\n",
    "    + (if easy, view count at the time of thanks)\n",
    "\n",
    "## Love\n",
    "+ A dataframe where each row represents one love action\n",
    "+ Sender Columns\n",
    "    + sender_prev_loves: How many loves did they previously send?\n",
    "    + sender_prev_any.love: Did they previously send a love? (binary)\n",
    "    + How many loves did they previously receive?\n",
    "    + Did they previously receive a love (binary)\n",
    "    + (summary information)\n",
    "    + When registered?\n",
    "    + Number of previous edits\n",
    "+ Receiver Columns\n",
    "    + receiver.prev.loves: How many loves did they previously send?\n",
    "    + Did they previously send a love? (binary)\n",
    "    + How many loves did they previously receive?\n",
    "    + Did they previously receive a love (binary)\n",
    "    + (summary information)\n",
    "    + When registered?\n",
    "    + Number of previous edits\n",
    "    + Over the next six months\n",
    "    + How many contributions they made\n",
    "    + How many loves they sent to others\n",
    "+ Love Columns\n",
    "    + Timestamp\n",
    "    + What kind of love (kitten, baklava)\n",
    "    + Length of message\n",
    "    + Count the number of links in the message\n",
    "    + At the time of love-sending, how many pages had the sender and receiver both edited? (count)\n",
    "    + At the time of love-sending, had the sender and receiver both edited at least one of the same pages (binary)\n"
   ]
  },
  {
   "cell_type": "code",
   "execution_count": 1,
   "metadata": {},
   "outputs": [],
   "source": [
    "from sqlalchemy import create_engine\n",
    "import sys, os\n",
    "import pandas as pd\n",
    "import numpy as np"
   ]
  },
  {
   "cell_type": "code",
   "execution_count": 2,
   "metadata": {},
   "outputs": [],
   "source": [
    "constr = 'mysql+pymysql://{user}:{pwd}@{host}'.format(user=os.environ['MYSQL_USERNAME'],\n",
    "                                                      pwd=os.environ['MYSQL_PASSWORD'],\n",
    "                                                      host=os.environ['MYSQL_HOST'])\n",
    "con = create_engine(constr)\n",
    "\n",
    "#en_thanks = pd.read_sql(\"select * from enwiki_p.logging where log_type = 'thanks'\", con)"
   ]
  },
  {
   "cell_type": "code",
   "execution_count": 4,
   "metadata": {},
   "outputs": [
    {
     "name": "stdout",
     "output_type": "stream",
     "text": [
      "              total        used        free      shared  buff/cache   available\r\n",
      "Mem:        8179272      555464     6814864       19392      808944     7342980\r\n",
      "Swap:             0           0           0\r\n"
     ]
    }
   ],
   "source": [
    "!free"
   ]
  },
  {
   "cell_type": "code",
   "execution_count": null,
   "metadata": {},
   "outputs": [],
   "source": [
    "en_thanks.memory_usage().sum() / 10**6"
   ]
  },
  {
   "cell_type": "code",
   "execution_count": 84,
   "metadata": {},
   "outputs": [
    {
     "data": {
      "text/html": [
       "<div>\n",
       "<style scoped>\n",
       "    .dataframe tbody tr th:only-of-type {\n",
       "        vertical-align: middle;\n",
       "    }\n",
       "\n",
       "    .dataframe tbody tr th {\n",
       "        vertical-align: top;\n",
       "    }\n",
       "\n",
       "    .dataframe thead th {\n",
       "        text-align: right;\n",
       "    }\n",
       "</style>\n",
       "<table border=\"1\" class=\"dataframe\">\n",
       "  <thead>\n",
       "    <tr style=\"text-align: right;\">\n",
       "      <th></th>\n",
       "      <th>log_id</th>\n",
       "      <th>log_type</th>\n",
       "      <th>log_action</th>\n",
       "      <th>log_timestamp</th>\n",
       "      <th>log_user</th>\n",
       "      <th>log_namespace</th>\n",
       "      <th>log_title</th>\n",
       "      <th>log_comment_id</th>\n",
       "      <th>log_comment</th>\n",
       "      <th>log_params</th>\n",
       "      <th>log_deleted</th>\n",
       "      <th>log_user_text</th>\n",
       "      <th>log_page</th>\n",
       "    </tr>\n",
       "  </thead>\n",
       "  <tbody>\n",
       "    <tr>\n",
       "      <th>0</th>\n",
       "      <td>19254177</td>\n",
       "      <td>b'thanks'</td>\n",
       "      <td>b'thank'</td>\n",
       "      <td>b'20130820194639'</td>\n",
       "      <td>89912.0</td>\n",
       "      <td>2</td>\n",
       "      <td>b'Blackfish'</td>\n",
       "      <td>0.0</td>\n",
       "      <td>b''</td>\n",
       "      <td>b'a:0:{}'</td>\n",
       "      <td>0</td>\n",
       "      <td>b'Matma Rex'</td>\n",
       "      <td>2419281</td>\n",
       "    </tr>\n",
       "    <tr>\n",
       "      <th>1</th>\n",
       "      <td>19254178</td>\n",
       "      <td>b'thanks'</td>\n",
       "      <td>b'thank'</td>\n",
       "      <td>b'20130820194718'</td>\n",
       "      <td>468168.0</td>\n",
       "      <td>2</td>\n",
       "      <td>b'Alan_ffm'</td>\n",
       "      <td>0.0</td>\n",
       "      <td>b''</td>\n",
       "      <td>b'a:0:{}'</td>\n",
       "      <td>0</td>\n",
       "      <td>b'Drzewianin'</td>\n",
       "      <td>2010107</td>\n",
       "    </tr>\n",
       "    <tr>\n",
       "      <th>2</th>\n",
       "      <td>19254215</td>\n",
       "      <td>b'thanks'</td>\n",
       "      <td>b'thank'</td>\n",
       "      <td>b'20130820195307'</td>\n",
       "      <td>432759.0</td>\n",
       "      <td>2</td>\n",
       "      <td>b'Basshuntersw'</td>\n",
       "      <td>0.0</td>\n",
       "      <td>b''</td>\n",
       "      <td>b'a:0:{}'</td>\n",
       "      <td>0</td>\n",
       "      <td>b'Stanko'</td>\n",
       "      <td>1902059</td>\n",
       "    </tr>\n",
       "    <tr>\n",
       "      <th>3</th>\n",
       "      <td>19254221</td>\n",
       "      <td>b'thanks'</td>\n",
       "      <td>b'thank'</td>\n",
       "      <td>b'20130820195321'</td>\n",
       "      <td>432759.0</td>\n",
       "      <td>2</td>\n",
       "      <td>b'Sir_Lothar'</td>\n",
       "      <td>0.0</td>\n",
       "      <td>b''</td>\n",
       "      <td>b'a:0:{}'</td>\n",
       "      <td>0</td>\n",
       "      <td>b'Stanko'</td>\n",
       "      <td>425996</td>\n",
       "    </tr>\n",
       "    <tr>\n",
       "      <th>4</th>\n",
       "      <td>19254224</td>\n",
       "      <td>b'thanks'</td>\n",
       "      <td>b'thank'</td>\n",
       "      <td>b'20130820195353'</td>\n",
       "      <td>304960.0</td>\n",
       "      <td>2</td>\n",
       "      <td>b'Wpisywacz'</td>\n",
       "      <td>0.0</td>\n",
       "      <td>b''</td>\n",
       "      <td>b'a:0:{}'</td>\n",
       "      <td>0</td>\n",
       "      <td>b'Bartholomaeus'</td>\n",
       "      <td>3009335</td>\n",
       "    </tr>\n",
       "  </tbody>\n",
       "</table>\n",
       "</div>"
      ],
      "text/plain": [
       "     log_id   log_type log_action      log_timestamp  log_user  log_namespace  \\\n",
       "0  19254177  b'thanks'   b'thank'  b'20130820194639'   89912.0              2   \n",
       "1  19254178  b'thanks'   b'thank'  b'20130820194718'  468168.0              2   \n",
       "2  19254215  b'thanks'   b'thank'  b'20130820195307'  432759.0              2   \n",
       "3  19254221  b'thanks'   b'thank'  b'20130820195321'  432759.0              2   \n",
       "4  19254224  b'thanks'   b'thank'  b'20130820195353'  304960.0              2   \n",
       "\n",
       "         log_title  log_comment_id log_comment log_params  log_deleted  \\\n",
       "0     b'Blackfish'             0.0         b''  b'a:0:{}'            0   \n",
       "1      b'Alan_ffm'             0.0         b''  b'a:0:{}'            0   \n",
       "2  b'Basshuntersw'             0.0         b''  b'a:0:{}'            0   \n",
       "3    b'Sir_Lothar'             0.0         b''  b'a:0:{}'            0   \n",
       "4     b'Wpisywacz'             0.0         b''  b'a:0:{}'            0   \n",
       "\n",
       "      log_user_text  log_page  \n",
       "0      b'Matma Rex'   2419281  \n",
       "1     b'Drzewianin'   2010107  \n",
       "2         b'Stanko'   1902059  \n",
       "3         b'Stanko'    425996  \n",
       "4  b'Bartholomaeus'   3009335  "
      ]
     },
     "execution_count": 84,
     "metadata": {},
     "output_type": "execute_result"
    }
   ],
   "source": [
    "df.head()"
   ]
  },
  {
   "cell_type": "code",
   "execution_count": null,
   "metadata": {},
   "outputs": [],
   "source": []
  },
  {
   "cell_type": "markdown",
   "metadata": {},
   "source": [
    "### note on thank sizes\n",
    "#### june 2018\n",
    "+ enwiki has 1.5m thanks ~130megs\n",
    "+ plwiki has 81k thanks ~2.5meg"
   ]
  },
  {
   "cell_type": "code",
   "execution_count": 57,
   "metadata": {},
   "outputs": [],
   "source": [
    "r= con.execute(\"select count(*) from enwiki_p.logging where log_type = 'thanks'\")"
   ]
  },
  {
   "cell_type": "code",
   "execution_count": 58,
   "metadata": {},
   "outputs": [
    {
     "data": {
      "text/plain": [
       "[(1477853,)]"
      ]
     },
     "execution_count": 58,
     "metadata": {},
     "output_type": "execute_result"
    }
   ],
   "source": [
    "r.fetchall()"
   ]
  },
  {
   "cell_type": "code",
   "execution_count": 66,
   "metadata": {},
   "outputs": [],
   "source": [
    "all_thanks_sql = \"select log_timestamp, log_title, log_user_text, log_page from plwiki_p.logging where log_type = 'thanks'\"\n",
    "thank_df = pd.read_sql(all_thanks_sql, con)"
   ]
  },
  {
   "cell_type": "code",
   "execution_count": 68,
   "metadata": {},
   "outputs": [],
   "source": [
    "thank_df = thank_df.rename(mapper={'log_title':'receiver', 'log_user_text':'sender', 'log_timestamp':'timestamp'}, axis='columns')"
   ]
  },
  {
   "cell_type": "code",
   "execution_count": 1,
   "metadata": {},
   "outputs": [
    {
     "ename": "NameError",
     "evalue": "name 'thank_df' is not defined",
     "output_type": "error",
     "traceback": [
      "\u001b[0;31m---------------------------------------------------------------------------\u001b[0m",
      "\u001b[0;31mNameError\u001b[0m                                 Traceback (most recent call last)",
      "\u001b[0;32m<ipython-input-1-046ae20190ac>\u001b[0m in \u001b[0;36m<module>\u001b[0;34m()\u001b[0m\n\u001b[0;32m----> 1\u001b[0;31m \u001b[0mthank_df\u001b[0m\u001b[0;34m.\u001b[0m\u001b[0mhead\u001b[0m\u001b[0;34m(\u001b[0m\u001b[0;34m)\u001b[0m\u001b[0;34m\u001b[0m\u001b[0m\n\u001b[0m",
      "\u001b[0;31mNameError\u001b[0m: name 'thank_df' is not defined"
     ]
    }
   ],
   "source": [
    "thank_df.head()"
   ]
  },
  {
   "cell_type": "code",
   "execution_count": 89,
   "metadata": {
    "scrolled": true
   },
   "outputs": [],
   "source": [
    "blackfish_df = thank_df[thank_df['receiver']==b'Blackfish']"
   ]
  },
  {
   "cell_type": "code",
   "execution_count": 102,
   "metadata": {},
   "outputs": [],
   "source": [
    "def prev_thanks(user, send_or_receive, prior_to, df):\n",
    "    time_cond = (df['timestamp'] < prior_to)\n",
    "    user_cond = (df[send_or_receive] == user)\n",
    "    prev_df = df[time_cond & user_cond]\n",
    "    return len(prev_df)"
   ]
  },
  {
   "cell_type": "code",
   "execution_count": 110,
   "metadata": {},
   "outputs": [
    {
     "data": {
      "text/html": [
       "<div>\n",
       "<style scoped>\n",
       "    .dataframe tbody tr th:only-of-type {\n",
       "        vertical-align: middle;\n",
       "    }\n",
       "\n",
       "    .dataframe tbody tr th {\n",
       "        vertical-align: top;\n",
       "    }\n",
       "\n",
       "    .dataframe thead th {\n",
       "        text-align: right;\n",
       "    }\n",
       "</style>\n",
       "<table border=\"1\" class=\"dataframe\">\n",
       "  <thead>\n",
       "    <tr style=\"text-align: right;\">\n",
       "      <th></th>\n",
       "      <th>timestamp</th>\n",
       "      <th>receiver</th>\n",
       "      <th>sender</th>\n",
       "      <th>log_page</th>\n",
       "    </tr>\n",
       "  </thead>\n",
       "  <tbody>\n",
       "    <tr>\n",
       "      <th>0</th>\n",
       "      <td>b'20130820194639'</td>\n",
       "      <td>b'Blackfish'</td>\n",
       "      <td>b'Matma Rex'</td>\n",
       "      <td>2419281</td>\n",
       "    </tr>\n",
       "    <tr>\n",
       "      <th>1</th>\n",
       "      <td>b'20130820194718'</td>\n",
       "      <td>b'Alan_ffm'</td>\n",
       "      <td>b'Drzewianin'</td>\n",
       "      <td>2010107</td>\n",
       "    </tr>\n",
       "    <tr>\n",
       "      <th>2</th>\n",
       "      <td>b'20130820195307'</td>\n",
       "      <td>b'Basshuntersw'</td>\n",
       "      <td>b'Stanko'</td>\n",
       "      <td>1902059</td>\n",
       "    </tr>\n",
       "    <tr>\n",
       "      <th>3</th>\n",
       "      <td>b'20130820195321'</td>\n",
       "      <td>b'Sir_Lothar'</td>\n",
       "      <td>b'Stanko'</td>\n",
       "      <td>425996</td>\n",
       "    </tr>\n",
       "    <tr>\n",
       "      <th>4</th>\n",
       "      <td>b'20130820195353'</td>\n",
       "      <td>b'Wpisywacz'</td>\n",
       "      <td>b'Bartholomaeus'</td>\n",
       "      <td>3009335</td>\n",
       "    </tr>\n",
       "  </tbody>\n",
       "</table>\n",
       "</div>"
      ],
      "text/plain": [
       "           timestamp         receiver            sender  log_page\n",
       "0  b'20130820194639'     b'Blackfish'      b'Matma Rex'   2419281\n",
       "1  b'20130820194718'      b'Alan_ffm'     b'Drzewianin'   2010107\n",
       "2  b'20130820195307'  b'Basshuntersw'         b'Stanko'   1902059\n",
       "3  b'20130820195321'    b'Sir_Lothar'         b'Stanko'    425996\n",
       "4  b'20130820195353'     b'Wpisywacz'  b'Bartholomaeus'   3009335"
      ]
     },
     "execution_count": 110,
     "metadata": {},
     "output_type": "execute_result"
    }
   ],
   "source": [
    "thank_df.head()"
   ]
  },
  {
   "cell_type": "code",
   "execution_count": 120,
   "metadata": {},
   "outputs": [],
   "source": [
    "thank_df1k = thank_df[:1000]"
   ]
  },
  {
   "cell_type": "code",
   "execution_count": 121,
   "metadata": {},
   "outputs": [
    {
     "data": {
      "text/plain": [
       "1000"
      ]
     },
     "execution_count": 121,
     "metadata": {},
     "output_type": "execute_result"
    }
   ],
   "source": [
    "len(thank_df1k)"
   ]
  },
  {
   "cell_type": "code",
   "execution_count": 126,
   "metadata": {},
   "outputs": [],
   "source": [
    "grps = thank_df.groupby(by='receiver')"
   ]
  },
  {
   "cell_type": "code",
   "execution_count": 123,
   "metadata": {
    "scrolled": true
   },
   "outputs": [],
   "source": [
    "thank_df['receiver_prev_received'] = thank_df.apply(lambda row: prev_thanks(user=row[1], send_or_receive='receiver', prior_to=row[0], df=thank_df), axis=1)"
   ]
  },
  {
   "cell_type": "code",
   "execution_count": 128,
   "metadata": {},
   "outputs": [],
   "source": [
    "thank_df['sender_prev_received'] = thank_df.apply(lambda row: prev_thanks(user=row[2], send_or_receive='receiver', prior_to=row[0], df=thank_df), axis=1)"
   ]
  },
  {
   "cell_type": "code",
   "execution_count": 129,
   "metadata": {},
   "outputs": [],
   "source": [
    "thank_df['sender_prev_sent'] = thank_df.apply(lambda row: prev_thanks(user=row[2], send_or_receive='sender', prior_to=row[0], df=thank_df), axis=1)"
   ]
  },
  {
   "cell_type": "code",
   "execution_count": 130,
   "metadata": {},
   "outputs": [],
   "source": [
    "thank_df['receiver_prev_sent'] = thank_df.apply(lambda row: prev_thanks(user=row[1], send_or_receive='sender', prior_to=row[0], df=thank_df), axis=1)"
   ]
  },
  {
   "cell_type": "code",
   "execution_count": 132,
   "metadata": {},
   "outputs": [],
   "source": [
    "thank_df.to_pickle('thank_pl_v1.pickle')"
   ]
  },
  {
   "cell_type": "code",
   "execution_count": 134,
   "metadata": {},
   "outputs": [
    {
     "name": "stdout",
     "output_type": "stream",
     "text": [
      "6.4M\tthank_pl_v1.pickle\r\n"
     ]
    }
   ],
   "source": [
    "!du -h thank_pl_v1.pickle"
   ]
  },
  {
   "cell_type": "markdown",
   "metadata": {},
   "source": [
    "## Checkpoint"
   ]
  },
  {
   "cell_type": "code",
   "execution_count": 27,
   "metadata": {},
   "outputs": [],
   "source": [
    "thank_df = pd.read_pickle('thank_pl_v1.pickle')"
   ]
  },
  {
   "cell_type": "code",
   "execution_count": 58,
   "metadata": {},
   "outputs": [],
   "source": [
    "def natural_integer_test(seq):\n",
    "    '''tests if a series is a natural integer sequence using a property'''\n",
    "    l = len(seq) - 1 #minus 1 because we always start with a zero\n",
    "    sum_identity = (l*(l+1))/2\n",
    "    assert sum_identity == seq.sum()\n",
    "    \n",
    "def monotonic(x):\n",
    "    assert np.all(np.diff(x) >= 0)    "
   ]
  },
  {
   "cell_type": "code",
   "execution_count": 61,
   "metadata": {},
   "outputs": [],
   "source": [
    "blackfish_r = thank_df[thank_df['receiver']==b'Blackfish']\n",
    "blackfish_s = thank_df[thank_df['sender']==b'Blackfish']\n",
    "blackfish_rpr = blackfish_r['receiver_prev_reiceived']\n",
    "blackfish_rps = blackfish_r['receiver_prev_sent']\n",
    "blackfish_sps = blackfish_s['sender_prev_sent']\n",
    "blackfish_spr = blackfish_s['sender_prev_reiceived']"
   ]
  },
  {
   "cell_type": "code",
   "execution_count": 65,
   "metadata": {},
   "outputs": [],
   "source": [
    "natural_integer_test(blackfish_rpr)\n",
    "natural_integer_test(blackfish_sps)\n",
    "monotonic(blackfish_spr)\n",
    "monotonic(blackfish_rps)"
   ]
  },
  {
   "cell_type": "markdown",
   "metadata": {},
   "source": [
    "## Edit histories"
   ]
  },
  {
   "cell_type": "code",
   "execution_count": null,
   "metadata": {},
   "outputs": [],
   "source": [
    "all_user_names_that_thanked = '''use plwiki_p;\n",
    "  select user_id, user_name from user uu\n",
    "\tjoin (select distinct uname from (\n",
    " \t\t\tselect distinct log_title as uname from logging where log_type = 'thanks'\n",
    "    \t\tunion\n",
    "     \t\tselect distinct log_user_text as uname from logging where log_type = 'thanks') k\n",
    "\t\t\t) l\n",
    "  on uu.user_name = l.uname'''"
   ]
  },
  {
   "cell_type": "code",
   "execution_count": 3,
   "metadata": {},
   "outputs": [],
   "source": [
    "thank_revisions = '''\n",
    "select thank_users.user_name, rev_timestamp from plwiki_p.revision revs\n",
    "inner join  (select user_id, user_name from plwiki_p.user userids\n",
    "\tjoin (select distinct uname from (\n",
    " \t\t\tselect distinct log_title as uname from plwiki_p.logging where log_type = 'thanks'\n",
    "    \t\tunion\n",
    "     \t\tselect distinct log_user_text as uname from plwiki_p.logging where log_type = 'thanks') send_and_rec\n",
    "\t\t\t ) thank_mentioned\n",
    "  on userids.user_name = thank_mentioned.uname) thank_users\n",
    "  on revs.rev_user = thank_users.user_id \n",
    "\n",
    "'''"
   ]
  },
  {
   "cell_type": "code",
   "execution_count": null,
   "metadata": {},
   "outputs": [],
   "source": [
    "rev_df = pd.read_sql(thank_revisions, con)"
   ]
  },
  {
   "cell_type": "code",
   "execution_count": null,
   "metadata": {},
   "outputs": [],
   "source": [
    "rev_df.to_pickle('revs_pl_v1.pickle')"
   ]
  },
  {
   "cell_type": "code",
   "execution_count": 12,
   "metadata": {},
   "outputs": [
    {
     "data": {
      "text/plain": [
       "23616495"
      ]
     },
     "execution_count": 12,
     "metadata": {},
     "output_type": "execute_result"
    }
   ],
   "source": [
    "len(rev_df)"
   ]
  },
  {
   "cell_type": "markdown",
   "metadata": {},
   "source": [
    "## alternative strategy for revisions\n",
    "create a dict or dataframes, one per user using\n",
    "```\n",
    "use plwiki_p;\n",
    "select rev_user, rev_timestamp from revision r\n",
    "inner join (\n",
    "  select user_id, user_name from user where user_name = ''\n",
    ") u on r.rev_user = u.user_id \n",
    "\n",
    "```"
   ]
  },
  {
   "cell_type": "code",
   "execution_count": null,
   "metadata": {},
   "outputs": [],
   "source": [
    "rev_sql =\n",
    "'''\n",
    "use plwiki_p;\n",
    "select rev_user, rev_timestamp from revision r\n",
    "inner join (select user_id, user_name from user where user_name = 'Blackfish') u on r.rev_user = u.user_id \n",
    "'''"
   ]
  },
  {
   "cell_type": "markdown",
   "metadata": {},
   "source": [
    "### Question\n",
    "+ is log_title thanking log_user_text, or vice-versa?\n",
    "### Answer\n",
    "+ it is  log_title **was thanked by** \tlog_user_text"
   ]
  },
  {
   "cell_type": "code",
   "execution_count": 51,
   "metadata": {},
   "outputs": [],
   "source": [
    "edf = pd.read_sql(\"select log_timestamp, log_user, log_title, log_user_text, log_page from enwiki_p.logging where log_type = 'thanks' and log_title = 'Maximilianklein' \", con)"
   ]
  },
  {
   "cell_type": "code",
   "execution_count": 53,
   "metadata": {},
   "outputs": [],
   "source": [
    "eedf = pd.read_sql(\"select log_timestamp, log_user, log_title, log_user_text, log_page from enwiki_p.logging where log_type = 'thanks' and log_user_text = 'Maximilianklein' \", con)"
   ]
  },
  {
   "cell_type": "code",
   "execution_count": 46,
   "metadata": {},
   "outputs": [
    {
     "data": {
      "text/plain": [
       "0.0    76857\n",
       "5.0     4341\n",
       "Name: log_comment_id, dtype: int64"
      ]
     },
     "execution_count": 46,
     "metadata": {},
     "output_type": "execute_result"
    }
   ],
   "source": [
    "df['log_comment_id'].value_counts()"
   ]
  },
  {
   "cell_type": "code",
   "execution_count": null,
   "metadata": {},
   "outputs": [],
   "source": []
  },
  {
   "cell_type": "code",
   "execution_count": 47,
   "metadata": {},
   "outputs": [
    {
     "data": {
      "text/plain": [
       "0        b''\n",
       "1        b''\n",
       "2        b''\n",
       "3        b''\n",
       "4        b''\n",
       "5        b''\n",
       "6        b''\n",
       "7        b''\n",
       "8        b''\n",
       "9        b''\n",
       "10       b''\n",
       "11       b''\n",
       "12       b''\n",
       "13       b''\n",
       "14       b''\n",
       "15       b''\n",
       "16       b''\n",
       "17       b''\n",
       "18       b''\n",
       "19       b''\n",
       "20       b''\n",
       "21       b''\n",
       "22       b''\n",
       "23       b''\n",
       "24       b''\n",
       "25       b''\n",
       "26       b''\n",
       "27       b''\n",
       "28       b''\n",
       "29       b''\n",
       "        ... \n",
       "81168    b''\n",
       "81169    b''\n",
       "81170    b''\n",
       "81171    b''\n",
       "81172    b''\n",
       "81173    b''\n",
       "81174    b''\n",
       "81175    b''\n",
       "81176    b''\n",
       "81177    b''\n",
       "81178    b''\n",
       "81179    b''\n",
       "81180    b''\n",
       "81181    b''\n",
       "81182    b''\n",
       "81183    b''\n",
       "81184    b''\n",
       "81185    b''\n",
       "81186    b''\n",
       "81187    b''\n",
       "81188    b''\n",
       "81189    b''\n",
       "81190    b''\n",
       "81191    b''\n",
       "81192    b''\n",
       "81193    b''\n",
       "81194    b''\n",
       "81195    b''\n",
       "81196    b''\n",
       "81197    b''\n",
       "Name: log_comment, Length: 81198, dtype: object"
      ]
     },
     "execution_count": 47,
     "metadata": {},
     "output_type": "execute_result"
    }
   ],
   "source": [
    "df['log_comment']"
   ]
  },
  {
   "cell_type": "markdown",
   "metadata": {},
   "source": [
    "### namespaces always seem to be = 2"
   ]
  },
  {
   "cell_type": "code",
   "execution_count": null,
   "metadata": {},
   "outputs": [],
   "source": []
  }
 ],
 "metadata": {
  "kernelspec": {
   "display_name": "Python 3",
   "language": "python",
   "name": "python3"
  },
  "language_info": {
   "codemirror_mode": {
    "name": "ipython",
    "version": 3
   },
   "file_extension": ".py",
   "mimetype": "text/x-python",
   "name": "python",
   "nbconvert_exporter": "python",
   "pygments_lexer": "ipython3",
   "version": "3.6.3"
  }
 },
 "nbformat": 4,
 "nbformat_minor": 2
}
