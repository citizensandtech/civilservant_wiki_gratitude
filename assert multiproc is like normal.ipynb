{
 "cells": [
  {
   "cell_type": "code",
   "execution_count": 1,
   "metadata": {},
   "outputs": [],
   "source": [
    "import pandas as pd"
   ]
  },
  {
   "cell_type": "code",
   "execution_count": 2,
   "metadata": {},
   "outputs": [],
   "source": [
    "df =pd.read_csv('results/multiproc_wikithank_en_20180720.csv')"
   ]
  },
  {
   "cell_type": "code",
   "execution_count": 4,
   "metadata": {},
   "outputs": [],
   "source": [
    "df.fillna(0, inplace=True)"
   ]
  },
  {
   "cell_type": "code",
   "execution_count": 5,
   "metadata": {},
   "outputs": [
    {
     "data": {
      "text/plain": [
       "Index(['timestamp', 'receiver', 'receiver_id', 'sender', 'sender_id',\n",
       "       'receiver_prev_received_slow', 'receiver_prev_received',\n",
       "       'receiver_prev_sent_slow', 'receiver_prev_sent', 'sender_prev_received',\n",
       "       'sender_prev_sent', 'receiver_prev_received_indicator',\n",
       "       'sender_prev_received_indicator', 'sender_prev_sent_indicator',\n",
       "       'receiver_prev_sent_indicator', 'receiver_prev_edits_slow',\n",
       "       'receiver_prev_edits', 'sender_prev_edits_slow', 'sender_prev_edits',\n",
       "       'sender_first_edit', 'receiver_first_edit',\n",
       "       'sender_edits_1d_after_slow', 'sender_edits_1d_after',\n",
       "       'sender_edits_30d_after_slow', 'sender_edits_90d_after_slow',\n",
       "       'sender_edits_180d_after_slow', 'receiver_edits_1d_after_slow',\n",
       "       'receiver_edits_30d_after_slow', 'receiver_edits_90d_after_slow',\n",
       "       'receiver_edits_180d_after_slow', 'sender_edits_30d_after',\n",
       "       'sender_edits_90d_after', 'sender_edits_180d_after',\n",
       "       'receiver_edits_1d_after', 'receiver_edits_30d_after',\n",
       "       'receiver_edits_90d_after', 'receiver_edits_180d_after',\n",
       "       'receiver_thank_another_1d_after', 'receiver_thank_another_30d_after',\n",
       "       'receiver_thank_another_90d_after',\n",
       "       'receiver_thank_another_180d_after'],\n",
       "      dtype='object')"
      ]
     },
     "execution_count": 5,
     "metadata": {},
     "output_type": "execute_result"
    }
   ],
   "source": [
    "df.columns"
   ]
  },
  {
   "cell_type": "code",
   "execution_count": 10,
   "metadata": {},
   "outputs": [
    {
     "name": "stdout",
     "output_type": "stream",
     "text": [
      "receiver_prev_received_slow\n",
      "True\n",
      "receiver_prev_sent_slow\n",
      "True\n",
      "receiver_prev_edits_slow\n",
      "True\n",
      "sender_prev_edits_slow\n",
      "True\n",
      "sender_edits_1d_after_slow\n",
      "True\n",
      "sender_edits_30d_after_slow\n",
      "True\n",
      "sender_edits_90d_after_slow\n",
      "True\n",
      "sender_edits_180d_after_slow\n",
      "True\n",
      "receiver_edits_1d_after_slow\n",
      "True\n",
      "receiver_edits_30d_after_slow\n",
      "True\n",
      "receiver_edits_90d_after_slow\n",
      "True\n",
      "receiver_edits_180d_after_slow\n",
      "True\n"
     ]
    }
   ],
   "source": [
    "for c in df.columns:\n",
    "    if c.endswith('slow'):\n",
    "        cc = c.split('_slow')[0]\n",
    "        comp = df[c] == df[cc]\n",
    "        allcomp = all(comp)\n",
    "        print(c)\n",
    "        print(allcomp)"
   ]
  },
  {
   "cell_type": "code",
   "execution_count": null,
   "metadata": {},
   "outputs": [],
   "source": []
  }
 ],
 "metadata": {
  "kernelspec": {
   "display_name": "Python 3",
   "language": "python",
   "name": "python3"
  },
  "language_info": {
   "codemirror_mode": {
    "name": "ipython",
    "version": 3
   },
   "file_extension": ".py",
   "mimetype": "text/x-python",
   "name": "python",
   "nbconvert_exporter": "python",
   "pygments_lexer": "ipython3",
   "version": "3.6.5"
  }
 },
 "nbformat": 4,
 "nbformat_minor": 2
}
